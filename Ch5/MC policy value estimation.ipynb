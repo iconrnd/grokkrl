{
 "cells": [
  {
   "cell_type": "markdown",
   "id": "2cb45705-b94a-46d5-8b02-418887b40e7e",
   "metadata": {},
   "source": [
    "# Policy Value Estimation - the prediction problem of RL"
   ]
  },
  {
   "cell_type": "markdown",
   "id": "857c251b-0724-44d9-9f9d-0e5ac0fd0120",
   "metadata": {},
   "source": [
    "### Legacy repo does not work with gymnasium so some installs and hacks are needed"
   ]
  },
  {
   "cell_type": "code",
   "execution_count": 2,
   "id": "279e608c",
   "metadata": {},
   "outputs": [],
   "source": [
    "#!pip install git+https://github.com/mimoralea/gym-walk#egg=gym-walk"
   ]
  },
  {
   "cell_type": "code",
   "execution_count": 1,
   "id": "8b73a030",
   "metadata": {},
   "outputs": [],
   "source": [
    "#!pip install gym_walk\n",
    "#!pip install gymnasium"
   ]
  },
  {
   "cell_type": "code",
   "execution_count": 1,
   "id": "bb7f658f",
   "metadata": {},
   "outputs": [],
   "source": [
    "#import numpy as np\n",
    "#import gymnasium as gym, gym_walk\n",
    "#import gymnasium as gym\n",
    "#from gym_walk.envs import WalkEnv"
   ]
  },
  {
   "cell_type": "code",
   "execution_count": 2,
   "id": "0a0a3439-383d-4da9-9273-c4a7dafbd9ba",
   "metadata": {},
   "outputs": [],
   "source": [
    "#from gymnasium.envs.registration import register"
   ]
  },
  {
   "cell_type": "code",
   "execution_count": 3,
   "id": "e5ec3d92-b836-4573-869a-87950d29dd10",
   "metadata": {},
   "outputs": [],
   "source": [
    "#register(\n",
    "#    # One non-terminal states and two terminal\n",
    "#    # Technically speaking, this is a bandit MDP\n",
    "#    id='BanditWalk-v0',\n",
    "#    entry_point='gym_walk.envs:WalkEnv',\n",
    "#    # left-most and right-most states are terminal\n",
    "#    kwargs={'n_states': 1, 'p_stay': 0.0, 'p_backward': 0.0},\n",
    "#    max_episode_steps=100,\n",
    "#    reward_threshold=1.0,\n",
    "#    nondeterministic=True,\n",
    "#)"
   ]
  },
  {
   "cell_type": "code",
   "execution_count": 4,
   "id": "ef7fb69a-a565-4abf-a1d2-58ec39f33916",
   "metadata": {},
   "outputs": [],
   "source": [
    "#register(\n",
    "#    # One non-terminal states and two terminal\n",
    "#    # Technically speaking, this is a bandit MDP\n",
    "#    id='BanditSlipperyWalk-v0',\n",
    "#    entry_point='gym_walk.envs:WalkEnv',\n",
    "#    # left-most and right-most states are terminal\n",
    "#    kwargs={'n_states': 1, 'p_stay': 0.0, 'p_backward': 0.2},\n",
    "#    max_episode_steps=100,\n",
    "#    reward_threshold=1.0,\n",
    "#    nondeterministic=True,\n",
    "#)"
   ]
  },
  {
   "cell_type": "code",
   "execution_count": 5,
   "id": "c76394b4",
   "metadata": {},
   "outputs": [],
   "source": [
    "## (Stochastic) Markov Decission Problem: MDP\n",
    "## s a (p(a|s), s', r, Teminal?)\n",
    "#P = {\n",
    "#    0: {\n",
    "#        0: [(1.0, 0, 0.0, True)],\n",
    "#        1: [(1.0, 0, 0.0, True)]\n",
    "#    },\n",
    "#    1: {\n",
    "#        0: [(0.8, 0, 0.0, True), (0.2, 2, 1.0, True)],\n",
    "#        1: [(0.8, 2, 1.0, True), (0.2, 0, 0.0, True)]\n",
    "#    },\n",
    "#    2: {\n",
    "#        0: [(1.0, 2, 0.0, True)],\n",
    "#        1: [(1.0, 2, 0.0, True)]\n",
    "#    }\n",
    "#}"
   ]
  },
  {
   "cell_type": "code",
   "execution_count": 6,
   "id": "47da04df",
   "metadata": {},
   "outputs": [],
   "source": [
    "#env = gym.make('BanditWalk-v0')"
   ]
  },
  {
   "cell_type": "markdown",
   "id": "ea547b3f-ab4d-4a14-a86c-e2336986e9bf",
   "metadata": {},
   "source": [
    "# Environment setup"
   ]
  },
  {
   "cell_type": "markdown",
   "id": "8d5687dc-4a5b-4fe7-afaf-c477a3597454",
   "metadata": {},
   "source": [
    "### Upon installing gym_walk lib one can actuall directly instantiated envs used in the book by using proper env parameters"
   ]
  },
  {
   "cell_type": "code",
   "execution_count": 1,
   "id": "e6e6b665-3c3f-407a-9f34-33dcafb984ed",
   "metadata": {},
   "outputs": [],
   "source": [
    "import numpy as np\n",
    "from gym_walk.envs import WalkEnv\n",
    "\n",
    "from tqdm import tqdm\n",
    "import matplotlib.pyplot as plt\n",
    "\n",
    "from itertools import count"
   ]
  },
  {
   "cell_type": "markdown",
   "id": "9b04ba75-01d5-415d-afc1-31ad3a0dc184",
   "metadata": {},
   "source": [
    "### Slippery walk 1D AKA two-arm stochastic bandid"
   ]
  },
  {
   "cell_type": "code",
   "execution_count": 2,
   "id": "bdf79675-13c1-49dd-aa8a-64c67cd315bd",
   "metadata": {},
   "outputs": [],
   "source": [
    "env = WalkEnv(n_states=5, p_stay=0.0, p_backward=0.0)"
   ]
  },
  {
   "cell_type": "code",
   "execution_count": 3,
   "id": "63a00471-f724-4438-adfc-595b82e5c904",
   "metadata": {},
   "outputs": [
    {
     "data": {
      "text/plain": [
       "{0: {0: [(1.0, 0, 0.0, True), (0.0, 0, 0.0, True), (0.0, 1, 0.0, False)],\n",
       "  1: [(1.0, 1, 0.0, False), (0.0, 0, 0.0, True), (0.0, 0, 0.0, True)]},\n",
       " 1: {0: [(1.0, 0, 0.0, True), (0.0, 1, 0.0, False), (0.0, 2, 0.0, False)],\n",
       "  1: [(1.0, 2, 0.0, False), (0.0, 1, 0.0, False), (0.0, 0, 0.0, True)]},\n",
       " 2: {0: [(1.0, 1, 0.0, False), (0.0, 2, 0.0, False), (0.0, 3, 0.0, False)],\n",
       "  1: [(1.0, 3, 0.0, False), (0.0, 2, 0.0, False), (0.0, 1, 0.0, False)]},\n",
       " 3: {0: [(1.0, 2, 0.0, False), (0.0, 3, 0.0, False), (0.0, 4, 0.0, False)],\n",
       "  1: [(1.0, 4, 0.0, False), (0.0, 3, 0.0, False), (0.0, 2, 0.0, False)]},\n",
       " 4: {0: [(1.0, 3, 0.0, False), (0.0, 4, 0.0, False), (0.0, 5, 0.0, False)],\n",
       "  1: [(1.0, 5, 0.0, False), (0.0, 4, 0.0, False), (0.0, 3, 0.0, False)]},\n",
       " 5: {0: [(1.0, 4, 0.0, False), (0.0, 5, 0.0, False), (0.0, 6, 1.0, True)],\n",
       "  1: [(1.0, 6, 1.0, True), (0.0, 5, 0.0, False), (0.0, 4, 0.0, False)]},\n",
       " 6: {0: [(1.0, 5, 0.0, False), (0.0, 6, 0.0, True), (0.0, 6, 0.0, True)],\n",
       "  1: [(1.0, 6, 0.0, True), (0.0, 6, 0.0, True), (0.0, 5, 0.0, False)]}}"
      ]
     },
     "execution_count": 3,
     "metadata": {},
     "output_type": "execute_result"
    }
   ],
   "source": [
    "env.P"
   ]
  },
  {
   "cell_type": "code",
   "execution_count": 4,
   "id": "0db54547-0361-43d0-b94c-de2d8c2330e8",
   "metadata": {},
   "outputs": [
    {
     "data": {
      "text/plain": [
       "(3, {'prob': 1.0})"
      ]
     },
     "execution_count": 4,
     "metadata": {},
     "output_type": "execute_result"
    }
   ],
   "source": [
    "env.reset()"
   ]
  },
  {
   "cell_type": "code",
   "execution_count": 5,
   "id": "ea71903e-0643-4856-8140-dcf8345c0ecc",
   "metadata": {},
   "outputs": [
    {
     "data": {
      "text/plain": [
       "(4, 0.0, False, False, {'prob': 1.0, 'success': False})"
      ]
     },
     "execution_count": 5,
     "metadata": {},
     "output_type": "execute_result"
    }
   ],
   "source": [
    "env.step(1)"
   ]
  },
  {
   "cell_type": "markdown",
   "id": "ddb4965d-2332-4d84-802b-148f1b45f819",
   "metadata": {},
   "source": [
    "## MC policy evaluation"
   ]
  },
  {
   "cell_type": "code",
   "execution_count": 6,
   "id": "fff31bdf-36ec-439d-bdab-58a19f0560d2",
   "metadata": {},
   "outputs": [
    {
     "data": {
      "text/plain": [
       "Discrete(2)"
      ]
     },
     "execution_count": 6,
     "metadata": {},
     "output_type": "execute_result"
    }
   ],
   "source": [
    "env.action_space"
   ]
  },
  {
   "cell_type": "code",
   "execution_count": 7,
   "id": "c832406e-2d7c-4f9c-8270-61959503ef7d",
   "metadata": {},
   "outputs": [
    {
     "data": {
      "text/plain": [
       "2"
      ]
     },
     "execution_count": 7,
     "metadata": {},
     "output_type": "execute_result"
    }
   ],
   "source": [
    "env.action_space.n"
   ]
  },
  {
   "cell_type": "code",
   "execution_count": 8,
   "id": "a9c77a96-9c78-465f-b3d6-494c20f76669",
   "metadata": {},
   "outputs": [
    {
     "data": {
      "text/plain": [
       "array([0.01      , 0.01668101, 0.02782559, 0.04641589, 0.07742637,\n",
       "       0.12915497, 0.21544347, 0.35938137, 0.59948425, 1.        ])"
      ]
     },
     "execution_count": 8,
     "metadata": {},
     "output_type": "execute_result"
    }
   ],
   "source": [
    "# 10^{-3...0} every 1/10, so we get 10 points of 10 raised to linear space power in the range [-3, 0]\n",
    "np.logspace(-2, 0, 10, base=10, endpoint=True)"
   ]
  },
  {
   "cell_type": "code",
   "execution_count": 9,
   "id": "2c2cc935-9ae3-4de7-bc69-afe9ef6d8f90",
   "metadata": {},
   "outputs": [
    {
     "data": {
      "text/plain": [
       "[<matplotlib.lines.Line2D at 0x7c9acef11e20>]"
      ]
     },
     "execution_count": 9,
     "metadata": {},
     "output_type": "execute_result"
    },
    {
     "data": {
      "image/png": "[encoded data removed]",
      "text/plain": [
       "<Figure size 640x480 with 1 Axes>"
      ]
     },
     "metadata": {},
     "output_type": "display_data"
    }
   ],
   "source": [
    "plt.plot(np.logspace(-2, 0, 10, base=10, endpoint=True))"
   ]
  },
  {
   "cell_type": "code",
   "execution_count": 10,
   "id": "9bca0fc4-6e39-457c-ae16-d4b7b82e367a",
   "metadata": {},
   "outputs": [],
   "source": [
    "def decay_schedule(init_value,\n",
    "                   min_value,\n",
    "                   decay_ratio,\n",
    "                   max_steps,\n",
    "                   log_start=-2,\n",
    "                   log_base=10):\n",
    "    \n",
    "    decay_steps = int(decay_ratio * max_steps)\n",
    "    rem_steps = max_steps - decay_steps\n",
    "    values = np.logspace(log_start, 0, decay_steps, base=log_base, endpoint=True)[::-1]\n",
    "    values = (values - values.min())/(values.max() - values.min())\n",
    "    values = (init_value - min_value) * values + min_value\n",
    "    # padding (0, rem_steps) padds 0 elements on the left and rem_steps elements on the right, with edge value\n",
    "    values = np.pad(values, (0, rem_steps), 'edge')\n",
    "    \n",
    "    return values"
   ]
  },
  {
   "cell_type": "code",
   "execution_count": 11,
   "id": "785081d0-adf5-47a1-8988-6c924c75f075",
   "metadata": {},
   "outputs": [],
   "source": [
    "# Generate a single experience trajectory passing an episode up to done or max_steps limit\n",
    "def generate_trajectory(pi, env, max_steps=20):\n",
    "    done, trajectory = False, []\n",
    "    while not done:\n",
    "        state = env.reset()[0] # There was no [0] in the Grokking RL book\n",
    "        for t in count():\n",
    "            action = pi(state)\n",
    "            # Typical step return value for walk-5:\n",
    "            # (5, 0.0, False, False, {'prob': 0.5, 'success': False})\n",
    "            next_state, reward, done, _ , _= env.step(action)\n",
    "            experience = (state, action, reward, next_state, done)\n",
    "            trajectory.append(experience)\n",
    "            if done:\n",
    "                break\n",
    "            if t >= max_steps - 1:\n",
    "                trajectory = []\n",
    "                break\n",
    "            state = next_state\n",
    "\n",
    "    return np.array(trajectory, 'object')"
   ]
  },
  {
   "cell_type": "code",
   "execution_count": 38,
   "id": "b821330a-dacb-40bb-a405-c5b0a8daa0e9",
   "metadata": {},
   "outputs": [],
   "source": [
    "def mc_prediction(pi,\n",
    "                  env,\n",
    "                  gamma=1.0,\n",
    "                  init_alpha=0.5,\n",
    "                  min_alpha=0.01,\n",
    "                  alpha_decay_ratio=0.3,\n",
    "                  n_episodes=500,\n",
    "                  max_steps=100,\n",
    "                  first_visit=True):\n",
    "    nS = env.observation_space.n\n",
    "    discounts = np.logspace(0, max_steps, num=max_steps, base=gamma, endpoint=False)\n",
    "    alphas = decay_schedule(init_alpha, min_alpha, alpha_decay_ratio, n_episodes)\n",
    "\n",
    "    V = np.zeros(nS)\n",
    "    V_track = np.zeros((n_episodes, nS))\n",
    "\n",
    "    for e in tqdm(range(n_episodes), leave=False):\n",
    "        trajectory = generate_trajectory(pi, env, max_steps)\n",
    "        visited = np.zeros(nS, dtype='bool')\n",
    "        # Original line in the book has the unused reward element\n",
    "        #for t, (state, _, reward, _, _) in enumerate(trajectory):\n",
    "        for t, (state, _, _, _, _) in enumerate(trajectory):\n",
    "            if visited[state] and first_visit:\n",
    "                continue\n",
    "            visited[state] = True\n",
    "            n_steps = len(trajectory[t:])\n",
    "            G = np.sum(discounts[:n_steps] * trajectory[t:, 2])\n",
    "            V[state] = V[state] + alphas[e] * (G - V[state])\n",
    "            V_track[e] = V\n",
    "    return V.copy(), V_track\n",
    "        "
   ]
  },
  {
   "cell_type": "code",
   "execution_count": 31,
   "id": "a8fd3caf-1932-4498-bbeb-ff468d100a52",
   "metadata": {},
   "outputs": [
    {
     "data": {
      "text/plain": [
       "2"
      ]
     },
     "execution_count": 31,
     "metadata": {},
     "output_type": "execute_result"
    }
   ],
   "source": [
    "env.action_space.n"
   ]
  },
  {
   "cell_type": "code",
   "execution_count": 32,
   "id": "5c191c67-8abd-43ef-84f2-74485be3d23d",
   "metadata": {},
   "outputs": [
    {
     "data": {
      "text/plain": [
       "array([0, 1, 1, 0, 1, 1, 0])"
      ]
     },
     "execution_count": 32,
     "metadata": {},
     "output_type": "execute_result"
    }
   ],
   "source": [
    "np.random.choice(range(env.action_space.n), env.observation_space.n)"
   ]
  },
  {
   "cell_type": "code",
   "execution_count": 40,
   "id": "b4d8af07-2949-4002-8516-1fe15bafebc4",
   "metadata": {},
   "outputs": [],
   "source": [
    "# Random policy pi\n",
    "pi = lambda s: np.random.choice(range(env.action_space.n), env.observation_space.n)[s]"
   ]
  },
  {
   "cell_type": "code",
   "execution_count": 41,
   "id": "448ed2b0-bb45-4b83-9f73-f8b4a693c68d",
   "metadata": {},
   "outputs": [],
   "source": [
    "# Optimal policy\n",
    "# pi = lambda s: [1, 1, 1, 1, 1, 1, 1][s]"
   ]
  },
  {
   "cell_type": "code",
   "execution_count": 42,
   "id": "b1d3772e-05ae-4c6f-b4b3-a9394e4e92f2",
   "metadata": {},
   "outputs": [
    {
     "name": "stderr",
     "output_type": "stream",
     "text": [
      "                                                                                                                                                  \r"
     ]
    }
   ],
   "source": [
    "v_s, v_t = mc_prediction(pi, env)"
   ]
  },
  {
   "cell_type": "code",
   "execution_count": 45,
   "id": "5472fc5c-7e5c-46b8-b58a-0510fa46fc5b",
   "metadata": {},
   "outputs": [
    {
     "data": {
      "text/plain": [
       "(500, 7)"
      ]
     },
     "execution_count": 45,
     "metadata": {},
     "output_type": "execute_result"
    }
   ],
   "source": [
    "v_t.shape"
   ]
  },
  {
   "cell_type": "code",
   "execution_count": 44,
   "id": "45a86faa-f64e-477b-ac4e-a37598eb4f9e",
   "metadata": {},
   "outputs": [
    {
     "data": {
      "text/plain": [
       "array([0.        , 0.12007749, 0.27999409, 0.46817353, 0.62755596,\n",
       "       0.78754516, 0.        ])"
      ]
     },
     "execution_count": 44,
     "metadata": {},
     "output_type": "execute_result"
    }
   ],
   "source": [
    "v_s"
   ]
  },
  {
   "cell_type": "markdown",
   "id": "1c3976b7-7de6-4146-bc56-ed3afe2351c2",
   "metadata": {},
   "source": [
    "## TD Learning - less variance and more sample efficient estimation"
   ]
  },
  {
   "cell_type": "code",
   "execution_count": 47,
   "id": "7043df56-8a43-4b5c-a2fd-860dcfd2cf08",
   "metadata": {},
   "outputs": [
    {
     "data": {
      "text/plain": [
       "gym_walk.envs.walk_env.WalkEnv"
      ]
     },
     "execution_count": 47,
     "metadata": {},
     "output_type": "execute_result"
    }
   ],
   "source": [
    "type(env)"
   ]
  },
  {
   "cell_type": "code",
   "execution_count": 52,
   "id": "3242d1bd-a86f-4f49-8884-a8b93dbcdab1",
   "metadata": {},
   "outputs": [],
   "source": [
    "def td(pi,\n",
    "       env:WalkEnv, # Hinting gives member unroll\n",
    "       gamma=1.0,\n",
    "       init_alpha=0.5,\n",
    "       min_alpha=0.01,\n",
    "       alpha_decay_ratio=0.3,\n",
    "       n_episodes=500):\n",
    "    \n",
    "    nS = env.observation_space.n\n",
    "    V = np.zeros(nS)\n",
    "    V_track = np.zeros((n_episodes, nS))\n",
    "    alphas = decay_schedule(init_alpha, min_alpha, alpha_decay_ratio, n_episodes)\n",
    "\n",
    "    for e in tqdm(range(n_episodes), leave=False):\n",
    "        state, done = env.reset()[0], False # No [0] in the Grokking book\n",
    "        while not done:\n",
    "            action = pi(state)\n",
    "            next_state, reward, done, _, _ = env.step(action)\n",
    "            td_target = reward + gamma * V[next_state] * (not done)\n",
    "            td_error = td_target - V[state]\n",
    "            V[state] += alphas[e] * td_error\n",
    "            state = next_state\n",
    "        V_track[e] = V\n",
    "\n",
    "    return V, V_track\n",
    "    "
   ]
  },
  {
   "cell_type": "code",
   "execution_count": 53,
   "id": "7ed2ab2a-b3f2-4cf6-a441-9467ac9cc31d",
   "metadata": {},
   "outputs": [
    {
     "name": "stderr",
     "output_type": "stream",
     "text": [
      "                                                                                                                                                  \r"
     ]
    }
   ],
   "source": [
    "v_s, v_t = td(pi, env)"
   ]
  },
  {
   "cell_type": "markdown",
   "id": "51e1a467-bce2-496d-b082-e67b922dc45b",
   "metadata": {},
   "source": [
    "### The result is quite close to the above MC estimation"
   ]
  },
  {
   "cell_type": "code",
   "execution_count": 54,
   "id": "651228cc-4569-40a2-b370-520dcd5eb1cf",
   "metadata": {},
   "outputs": [
    {
     "data": {
      "text/plain": [
       "array([0.        , 0.16360175, 0.32686215, 0.48263408, 0.64678733,\n",
       "       0.82021294, 0.        ])"
      ]
     },
     "execution_count": 54,
     "metadata": {},
     "output_type": "execute_result"
    }
   ],
   "source": [
    "v_s"
   ]
  },
  {
   "cell_type": "code",
   "execution_count": null,
   "id": "83265b85-01ed-4678-bccc-a8f063c44c54",
   "metadata": {},
   "outputs": [],
   "source": []
  }
 ],
 "metadata": {
  "kernelspec": {
   "display_name": "tf39",
   "language": "python",
   "name": "tf39"
  },
  "language_info": {
   "codemirror_mode": {
    "name": "ipython",
    "version": 3
   },
   "file_extension": ".py",
   "mimetype": "text/x-python",
   "name": "python",
   "nbconvert_exporter": "python",
   "pygments_lexer": "ipython3",
   "version": "3.9.18"
  }
 },
 "nbformat": 4,
 "nbformat_minor": 5
}
