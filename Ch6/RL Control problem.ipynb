{
 "cells": [
  {
   "cell_type": "markdown",
   "id": "2cb45705-b94a-46d5-8b02-418887b40e7e",
   "metadata": {},
   "source": [
    "# Policy Optimization - the control problem of RL"
   ]
  },
  {
   "cell_type": "markdown",
   "id": "857c251b-0724-44d9-9f9d-0e5ac0fd0120",
   "metadata": {},
   "source": [
    "### Legacy repo does not work with gymnasium so some installs and hacks are needed"
   ]
  },
  {
   "cell_type": "code",
   "execution_count": 2,
   "id": "279e608c",
   "metadata": {},
   "outputs": [],
   "source": [
    "#!pip install git+https://github.com/mimoralea/gym-walk#egg=gym-walk"
   ]
  },
  {
   "cell_type": "code",
   "execution_count": 1,
   "id": "8b73a030",
   "metadata": {},
   "outputs": [],
   "source": [
    "#!pip install gym_walk\n",
    "#!pip install gymnasium"
   ]
  },
  {
   "cell_type": "code",
   "execution_count": 1,
   "id": "bb7f658f",
   "metadata": {},
   "outputs": [],
   "source": [
    "#import numpy as np\n",
    "#import gymnasium as gym, gym_walk\n",
    "#import gymnasium as gym\n",
    "#from gym_walk.envs import WalkEnv"
   ]
  },
  {
   "cell_type": "code",
   "execution_count": 2,
   "id": "0a0a3439-383d-4da9-9273-c4a7dafbd9ba",
   "metadata": {},
   "outputs": [],
   "source": [
    "#from gymnasium.envs.registration import register"
   ]
  },
  {
   "cell_type": "code",
   "execution_count": 3,
   "id": "e5ec3d92-b836-4573-869a-87950d29dd10",
   "metadata": {},
   "outputs": [],
   "source": [
    "#register(\n",
    "#    # One non-terminal states and two terminal\n",
    "#    # Technically speaking, this is a bandit MDP\n",
    "#    id='BanditWalk-v0',\n",
    "#    entry_point='gym_walk.envs:WalkEnv',\n",
    "#    # left-most and right-most states are terminal\n",
    "#    kwargs={'n_states': 1, 'p_stay': 0.0, 'p_backward': 0.0},\n",
    "#    max_episode_steps=100,\n",
    "#    reward_threshold=1.0,\n",
    "#    nondeterministic=True,\n",
    "#)"
   ]
  },
  {
   "cell_type": "code",
   "execution_count": 4,
   "id": "ef7fb69a-a565-4abf-a1d2-58ec39f33916",
   "metadata": {},
   "outputs": [],
   "source": [
    "#register(\n",
    "#    # One non-terminal states and two terminal\n",
    "#    # Technically speaking, this is a bandit MDP\n",
    "#    id='BanditSlipperyWalk-v0',\n",
    "#    entry_point='gym_walk.envs:WalkEnv',\n",
    "#    # left-most and right-most states are terminal\n",
    "#    kwargs={'n_states': 1, 'p_stay': 0.0, 'p_backward': 0.2},\n",
    "#    max_episode_steps=100,\n",
    "#    reward_threshold=1.0,\n",
    "#    nondeterministic=True,\n",
    "#)"
   ]
  },
  {
   "cell_type": "code",
   "execution_count": 5,
   "id": "c76394b4",
   "metadata": {},
   "outputs": [],
   "source": [
    "## (Stochastic) Markov Decission Problem: MDP\n",
    "## s a (p(a|s), s', r, Teminal?)\n",
    "#P = {\n",
    "#    0: {\n",
    "#        0: [(1.0, 0, 0.0, True)],\n",
    "#        1: [(1.0, 0, 0.0, True)]\n",
    "#    },\n",
    "#    1: {\n",
    "#        0: [(0.8, 0, 0.0, True), (0.2, 2, 1.0, True)],\n",
    "#        1: [(0.8, 2, 1.0, True), (0.2, 0, 0.0, True)]\n",
    "#    },\n",
    "#    2: {\n",
    "#        0: [(1.0, 2, 0.0, True)],\n",
    "#        1: [(1.0, 2, 0.0, True)]\n",
    "#    }\n",
    "#}"
   ]
  },
  {
   "cell_type": "code",
   "execution_count": 6,
   "id": "47da04df",
   "metadata": {},
   "outputs": [],
   "source": [
    "#env = gym.make('BanditWalk-v0')"
   ]
  },
  {
   "cell_type": "markdown",
   "id": "ea547b3f-ab4d-4a14-a86c-e2336986e9bf",
   "metadata": {},
   "source": [
    "# Environment setup"
   ]
  },
  {
   "cell_type": "markdown",
   "id": "8d5687dc-4a5b-4fe7-afaf-c477a3597454",
   "metadata": {},
   "source": [
    "### Upon installing gym_walk lib one can actuall directly instantiate envs used in the book by using proper env parameters"
   ]
  },
  {
   "cell_type": "code",
   "execution_count": 1,
   "id": "e6e6b665-3c3f-407a-9f34-33dcafb984ed",
   "metadata": {},
   "outputs": [],
   "source": [
    "import numpy as np\n",
    "from gym_walk.envs import WalkEnv\n",
    "\n",
    "from tqdm import tqdm\n",
    "import matplotlib.pyplot as plt\n",
    "\n",
    "from itertools import count"
   ]
  },
  {
   "cell_type": "markdown",
   "id": "9b04ba75-01d5-415d-afc1-31ad3a0dc184",
   "metadata": {},
   "source": [
    "### Slippery walk 1D AKA two-arm stochastic bandid"
   ]
  },
  {
   "cell_type": "code",
   "execution_count": 2,
   "id": "bdf79675-13c1-49dd-aa8a-64c67cd315bd",
   "metadata": {},
   "outputs": [],
   "source": [
    "env = WalkEnv(n_states=7, p_stay=0.33, p_backward=0.16)"
   ]
  },
  {
   "cell_type": "code",
   "execution_count": 3,
   "id": "63a00471-f724-4438-adfc-595b82e5c904",
   "metadata": {},
   "outputs": [
    {
     "data": {
      "text/plain": [
       "{0: {0: [(0.5099999999999999, 0, 0.0, True),\n",
       "   (0.33, 0, 0.0, True),\n",
       "   (0.16, 1, 0.0, False)],\n",
       "  1: [(0.5099999999999999, 1, 0.0, False),\n",
       "   (0.33, 0, 0.0, True),\n",
       "   (0.16, 0, 0.0, True)]},\n",
       " 1: {0: [(0.5099999999999999, 0, 0.0, True),\n",
       "   (0.33, 1, 0.0, False),\n",
       "   (0.16, 2, 0.0, False)],\n",
       "  1: [(0.5099999999999999, 2, 0.0, False),\n",
       "   (0.33, 1, 0.0, False),\n",
       "   (0.16, 0, 0.0, True)]},\n",
       " 2: {0: [(0.5099999999999999, 1, 0.0, False),\n",
       "   (0.33, 2, 0.0, False),\n",
       "   (0.16, 3, 0.0, False)],\n",
       "  1: [(0.5099999999999999, 3, 0.0, False),\n",
       "   (0.33, 2, 0.0, False),\n",
       "   (0.16, 1, 0.0, False)]},\n",
       " 3: {0: [(0.5099999999999999, 2, 0.0, False),\n",
       "   (0.33, 3, 0.0, False),\n",
       "   (0.16, 4, 0.0, False)],\n",
       "  1: [(0.5099999999999999, 4, 0.0, False),\n",
       "   (0.33, 3, 0.0, False),\n",
       "   (0.16, 2, 0.0, False)]},\n",
       " 4: {0: [(0.5099999999999999, 3, 0.0, False),\n",
       "   (0.33, 4, 0.0, False),\n",
       "   (0.16, 5, 0.0, False)],\n",
       "  1: [(0.5099999999999999, 5, 0.0, False),\n",
       "   (0.33, 4, 0.0, False),\n",
       "   (0.16, 3, 0.0, False)]},\n",
       " 5: {0: [(0.5099999999999999, 4, 0.0, False),\n",
       "   (0.33, 5, 0.0, False),\n",
       "   (0.16, 6, 0.0, False)],\n",
       "  1: [(0.5099999999999999, 6, 0.0, False),\n",
       "   (0.33, 5, 0.0, False),\n",
       "   (0.16, 4, 0.0, False)]},\n",
       " 6: {0: [(0.5099999999999999, 5, 0.0, False),\n",
       "   (0.33, 6, 0.0, False),\n",
       "   (0.16, 7, 0.0, False)],\n",
       "  1: [(0.5099999999999999, 7, 0.0, False),\n",
       "   (0.33, 6, 0.0, False),\n",
       "   (0.16, 5, 0.0, False)]},\n",
       " 7: {0: [(0.5099999999999999, 6, 0.0, False),\n",
       "   (0.33, 7, 0.0, False),\n",
       "   (0.16, 8, 1.0, True)],\n",
       "  1: [(0.5099999999999999, 8, 1.0, True),\n",
       "   (0.33, 7, 0.0, False),\n",
       "   (0.16, 6, 0.0, False)]},\n",
       " 8: {0: [(0.5099999999999999, 7, 0.0, False),\n",
       "   (0.33, 8, 0.0, True),\n",
       "   (0.16, 8, 0.0, True)],\n",
       "  1: [(0.5099999999999999, 8, 0.0, True),\n",
       "   (0.33, 8, 0.0, True),\n",
       "   (0.16, 7, 0.0, False)]}}"
      ]
     },
     "execution_count": 3,
     "metadata": {},
     "output_type": "execute_result"
    }
   ],
   "source": [
    "env.P"
   ]
  },
  {
   "cell_type": "code",
   "execution_count": 4,
   "id": "0db54547-0361-43d0-b94c-de2d8c2330e8",
   "metadata": {},
   "outputs": [
    {
     "data": {
      "text/plain": [
       "(4, {'prob': 1.0})"
      ]
     },
     "execution_count": 4,
     "metadata": {},
     "output_type": "execute_result"
    }
   ],
   "source": [
    "env.reset()"
   ]
  },
  {
   "cell_type": "code",
   "execution_count": 5,
   "id": "ea71903e-0643-4856-8140-dcf8345c0ecc",
   "metadata": {},
   "outputs": [
    {
     "data": {
      "text/plain": [
       "(5, 0.0, False, False, {'prob': 0.5099999999999999, 'success': False})"
      ]
     },
     "execution_count": 5,
     "metadata": {},
     "output_type": "execute_result"
    }
   ],
   "source": [
    "env.step(1)"
   ]
  },
  {
   "cell_type": "markdown",
   "id": "ddb4965d-2332-4d84-802b-148f1b45f819",
   "metadata": {},
   "source": [
    "## MC policy evaluation"
   ]
  },
  {
   "cell_type": "code",
   "execution_count": 6,
   "id": "fff31bdf-36ec-439d-bdab-58a19f0560d2",
   "metadata": {},
   "outputs": [
    {
     "data": {
      "text/plain": [
       "Discrete(2)"
      ]
     },
     "execution_count": 6,
     "metadata": {},
     "output_type": "execute_result"
    }
   ],
   "source": [
    "env.action_space"
   ]
  },
  {
   "cell_type": "code",
   "execution_count": 7,
   "id": "c832406e-2d7c-4f9c-8270-61959503ef7d",
   "metadata": {},
   "outputs": [
    {
     "data": {
      "text/plain": [
       "2"
      ]
     },
     "execution_count": 7,
     "metadata": {},
     "output_type": "execute_result"
    }
   ],
   "source": [
    "env.action_space.n"
   ]
  },
  {
   "cell_type": "code",
   "execution_count": 8,
   "id": "a9c77a96-9c78-465f-b3d6-494c20f76669",
   "metadata": {},
   "outputs": [
    {
     "data": {
      "text/plain": [
       "array([0.01      , 0.01668101, 0.02782559, 0.04641589, 0.07742637,\n",
       "       0.12915497, 0.21544347, 0.35938137, 0.59948425, 1.        ])"
      ]
     },
     "execution_count": 8,
     "metadata": {},
     "output_type": "execute_result"
    }
   ],
   "source": [
    "# 10^{-3...0} every 1/10, so we get 10 points of 10 raised to linear space power in the range [-3, 0]\n",
    "np.logspace(-2, 0, 10, base=10, endpoint=True)"
   ]
  },
  {
   "cell_type": "code",
   "execution_count": 94,
   "id": "2c2cc935-9ae3-4de7-bc69-afe9ef6d8f90",
   "metadata": {},
   "outputs": [
    {
     "data": {
      "text/plain": [
       "[<matplotlib.lines.Line2D at 0x7c9abe881d00>]"
      ]
     },
     "execution_count": 94,
     "metadata": {},
     "output_type": "execute_result"
    },
    {
     "data": {
      "image/png": "[encoded data removed]",
      "text/plain": [
       "<Figure size 640x480 with 1 Axes>"
      ]
     },
     "metadata": {},
     "output_type": "display_data"
    }
   ],
   "source": [
    "plt.plot(np.logspace(-2, 0, 10, base=10, endpoint=True)[::-1])"
   ]
  },
  {
   "cell_type": "code",
   "execution_count": 5,
   "id": "9bca0fc4-6e39-457c-ae16-d4b7b82e367a",
   "metadata": {},
   "outputs": [],
   "source": [
    "def decay_schedule(init_value,\n",
    "                   min_value,\n",
    "                   decay_ratio,\n",
    "                   max_steps,\n",
    "                   log_start=-2,\n",
    "                   log_base=10):\n",
    "    \n",
    "    decay_steps = int(decay_ratio * max_steps)\n",
    "    rem_steps = max_steps - decay_steps\n",
    "    values = np.logspace(log_start, 0, decay_steps, base=log_base, endpoint=True)[::-1]\n",
    "    values = (values - values.min())/(values.max() - values.min())\n",
    "    values = (init_value - min_value) * values + min_value\n",
    "    # padding (0, rem_steps) padds 0 elements on the left and rem_steps elements on the right, with edge value\n",
    "    values = np.pad(values, (0, rem_steps), 'edge')\n",
    "    \n",
    "    return values"
   ]
  },
  {
   "cell_type": "code",
   "execution_count": 23,
   "id": "785081d0-adf5-47a1-8988-6c924c75f075",
   "metadata": {},
   "outputs": [],
   "source": [
    "# Generate a single experience trajectory passing an episode up to done or max_steps limit\n",
    "def generate_trajectory(select_action, Q, epsilon, env, max_steps=200):\n",
    "    done, trajectory = False, []\n",
    "    while not done:\n",
    "        state = env.reset()[0] # There was no [0] in the Grokking RL book\n",
    "        for t in count():\n",
    "            # In control problem we allow for a more generic action selection\n",
    "            action = select_action(state, Q, epsilon)\n",
    "            # Typical step return value for walk-5:\n",
    "            # (5, 0.0, False, False, {'prob': 0.5, 'success': False})\n",
    "            next_state, reward, done, _ , _= env.step(action)\n",
    "            experience = (state, action, reward, next_state, done)\n",
    "            trajectory.append(experience)\n",
    "            if done:\n",
    "                break\n",
    "            if t >= max_steps - 1:\n",
    "                trajectory = []\n",
    "                break\n",
    "            state = next_state\n",
    "\n",
    "    return np.array(trajectory, 'object')"
   ]
  },
  {
   "cell_type": "code",
   "execution_count": 24,
   "id": "b821330a-dacb-40bb-a405-c5b0a8daa0e9",
   "metadata": {},
   "outputs": [],
   "source": [
    "def mc_control(env,\n",
    "               gamma=1.0,\n",
    "               init_alpha=0.5,\n",
    "               min_alpha=0.01,\n",
    "               alpha_decay_ratio=0.3,\n",
    "               init_epsilon=0.5,\n",
    "               min_epsilon=0.01,\n",
    "               epsilon_decay_ratio=0.9,\n",
    "               n_episodes=3000,\n",
    "               max_steps=200,\n",
    "               first_visit=True):\n",
    "    nS, nA = env.observation_space.n, env.action_space.n\n",
    "    discounts = np.logspace(0, max_steps, num=max_steps, base=gamma, endpoint=False)\n",
    "    alphas = decay_schedule(init_alpha, min_alpha, alpha_decay_ratio, n_episodes)\n",
    "    epsilons = decay_schedule(init_epsilon, min_epsilon, epsilon_decay_ratio, n_episodes)\n",
    "\n",
    "    pi_track = []\n",
    "    Q = np.zeros((nS, nA), dtype=np.float64)\n",
    "    Q_track = np.zeros((n_episodes, nS, nA), dtype=np.float64)\n",
    "\n",
    "    select_action = lambda state, Q, epsilon: \\\n",
    "        np.argmax(Q[state]) if epsilon > np.random.random() else np.random.choice(len(Q[state]))\n",
    "    \n",
    "    for e in tqdm(range(n_episodes), leave=False):\n",
    "        trajectory = generate_trajectory(select_action, Q, epsilons[e], env, max_steps)\n",
    "        visited = np.zeros((nS, nA), dtype='bool')\n",
    "        # Original line in the book has the unused reward element\n",
    "        #for t, (state, _, reward, _, _) in enumerate(trajectory):\n",
    "        for t, (state, action, reward, _, _) in enumerate(trajectory):\n",
    "            if visited[state][action] and first_visit:\n",
    "                continue\n",
    "            visited[state][action] = True\n",
    "            n_steps = len(trajectory[t:])\n",
    "            G = np.sum(discounts[:n_steps] * trajectory[t:, 2])\n",
    "            Q[state][action] = Q[state][action] + alphas[e] * (G - Q[state][action])\n",
    "            \n",
    "        Q_track[e] = Q\n",
    "        pi_track.append(np.argmax(Q, axis=1))\n",
    "    V = np.max(Q, axis=1)\n",
    "    pi = lambda s: {s:a for s, a in enumerate(np.argmax(Q, axis=1))}[s]\n",
    "    \n",
    "    return Q, V, pi, Q_track, pi_track\n",
    "        "
   ]
  },
  {
   "cell_type": "code",
   "execution_count": 25,
   "id": "b1d3772e-05ae-4c6f-b4b3-a9394e4e92f2",
   "metadata": {},
   "outputs": [
    {
     "name": "stderr",
     "output_type": "stream",
     "text": [
      "                                                                                                                                                  \r"
     ]
    }
   ],
   "source": [
    "Q_s, V_t, pi, Q_track, pi_track = mc_control(env)"
   ]
  },
  {
   "cell_type": "code",
   "execution_count": 26,
   "id": "5472fc5c-7e5c-46b8-b58a-0510fa46fc5b",
   "metadata": {},
   "outputs": [
    {
     "data": {
      "text/plain": [
       "(9, 2)"
      ]
     },
     "execution_count": 26,
     "metadata": {},
     "output_type": "execute_result"
    }
   ],
   "source": [
    "Q_s.shape"
   ]
  },
  {
   "cell_type": "code",
   "execution_count": 27,
   "id": "45a86faa-f64e-477b-ac4e-a37598eb4f9e",
   "metadata": {},
   "outputs": [
    {
     "data": {
      "text/plain": [
       "array([[0.        , 0.        ],\n",
       "       [0.08033208, 0.16052809],\n",
       "       [0.22505125, 0.27887668],\n",
       "       [0.33302876, 0.4145802 ],\n",
       "       [0.4495342 , 0.53633073],\n",
       "       [0.56183527, 0.6515299 ],\n",
       "       [0.69735512, 0.79191911],\n",
       "       [0.83734996, 0.92494624],\n",
       "       [0.        , 0.        ]])"
      ]
     },
     "execution_count": 27,
     "metadata": {},
     "output_type": "execute_result"
    }
   ],
   "source": [
    "Q_s"
   ]
  },
  {
   "cell_type": "code",
   "execution_count": 21,
   "id": "033d5c24-ab61-4ce7-850a-ac39fa5fa31e",
   "metadata": {},
   "outputs": [
    {
     "data": {
      "text/plain": [
       "array([0.        , 0.2126048 , 0.29814423, 0.41042915, 0.58343454,\n",
       "       0.69777941, 0.80416476, 0.89827679, 0.        ])"
      ]
     },
     "execution_count": 21,
     "metadata": {},
     "output_type": "execute_result"
    }
   ],
   "source": [
    "V_t"
   ]
  },
  {
   "cell_type": "code",
   "execution_count": 22,
   "id": "4ba1fcc8-c3d7-4886-a800-2c39cca33954",
   "metadata": {},
   "outputs": [
    {
     "data": {
      "text/plain": [
       "(3000, 9, 2)"
      ]
     },
     "execution_count": 22,
     "metadata": {},
     "output_type": "execute_result"
    }
   ],
   "source": [
    "Q_track.shape"
   ]
  },
  {
   "cell_type": "code",
   "execution_count": 25,
   "id": "099dbd4b-54de-40b1-91bf-6eb83f58fc7c",
   "metadata": {},
   "outputs": [
    {
     "data": {
      "text/plain": [
       "(9,)"
      ]
     },
     "execution_count": 25,
     "metadata": {},
     "output_type": "execute_result"
    }
   ],
   "source": [
    "pi_track[0].shape"
   ]
  },
  {
   "cell_type": "code",
   "execution_count": 28,
   "id": "ffc0e795-d59f-4fa4-8c62-3bcd43783a12",
   "metadata": {},
   "outputs": [
    {
     "data": {
      "text/plain": [
       "(3000,)"
      ]
     },
     "execution_count": 28,
     "metadata": {},
     "output_type": "execute_result"
    }
   ],
   "source": [
    "Q_track[:,0,0].shape"
   ]
  },
  {
   "cell_type": "code",
   "execution_count": 30,
   "id": "8404283e-3a0e-4bd9-b905-54ecf6874400",
   "metadata": {},
   "outputs": [
    {
     "data": {
      "text/plain": [
       "[<matplotlib.lines.Line2D at 0x7fd10b0ce730>]"
      ]
     },
     "execution_count": 30,
     "metadata": {},
     "output_type": "execute_result"
    },
    {
     "data": {
      "image/png": "[encoded data removed]",
      "text/plain": [
       "<Figure size 640x480 with 1 Axes>"
      ]
     },
     "metadata": {},
     "output_type": "display_data"
    }
   ],
   "source": [
    "plt.plot(Q_track[:, 4, 0])"
   ]
  },
  {
   "cell_type": "code",
   "execution_count": 31,
   "id": "d3f74d10-3cc7-4ac3-a074-e590e27e2128",
   "metadata": {},
   "outputs": [
    {
     "data": {
      "text/plain": [
       "[<matplotlib.lines.Line2D at 0x7fd10c258370>]"
      ]
     },
     "execution_count": 31,
     "metadata": {},
     "output_type": "execute_result"
    },
    {
     "data": {
      "image/png": "[encoded data removed]",
      "text/plain": [
       "<Figure size 640x480 with 1 Axes>"
      ]
     },
     "metadata": {},
     "output_type": "display_data"
    }
   ],
   "source": [
    "plt.plot(Q_track[:, 4, 1])"
   ]
  },
  {
   "cell_type": "markdown",
   "id": "1c3976b7-7de6-4146-bc56-ed3afe2351c2",
   "metadata": {},
   "source": [
    "## TD Learning - less variance and more sample efficient estimation"
   ]
  },
  {
   "cell_type": "code",
   "execution_count": 90,
   "id": "32268163-c150-456e-904f-e0753fdb62ad",
   "metadata": {},
   "outputs": [
    {
     "name": "stderr",
     "output_type": "stream",
     "text": [
      "                                                                                                                                                  \r"
     ]
    }
   ],
   "source": [
    "v_s, v_t = td_lambda(pi, env)"
   ]
  },
  {
   "cell_type": "code",
   "execution_count": 91,
   "id": "127c15a9-da05-45a2-8d3f-d9bed8dfb2c0",
   "metadata": {},
   "outputs": [
    {
     "data": {
      "text/plain": [
       "array([0.        , 0.12276795, 0.30122835, 0.47160785, 0.65002088,\n",
       "       0.82679418, 0.        ])"
      ]
     },
     "execution_count": 91,
     "metadata": {},
     "output_type": "execute_result"
    }
   ],
   "source": [
    "v_s"
   ]
  },
  {
   "cell_type": "markdown",
   "id": "8c683c9f-9e5d-4433-b67a-5037228f4994",
   "metadata": {},
   "source": [
    "## SARSA"
   ]
  },
  {
   "cell_type": "code",
   "execution_count": 17,
   "id": "6be20fac-7a74-42a4-8361-34c14e48eaf4",
   "metadata": {},
   "outputs": [],
   "source": [
    "def sarsa(env,\n",
    "          gamma=1.0,\n",
    "          init_alpha=0.5,\n",
    "          min_alpha=0.01,\n",
    "          alpha_decay_ratio=0.3,\n",
    "          init_epsilon=0.5,\n",
    "          min_epsilon=0.01,\n",
    "          epsilon_decay_ratio=0.9,\n",
    "          n_episodes=6000,\n",
    "          first_visit=True):\n",
    "    nS, nA = env.observation_space.n, env.action_space.n\n",
    "    alphas = decay_schedule(init_alpha, min_alpha, alpha_decay_ratio, n_episodes)\n",
    "    epsilons = decay_schedule(init_epsilon, min_epsilon, epsilon_decay_ratio, n_episodes)\n",
    "\n",
    "    pi_track = []\n",
    "    Q = np.zeros((nS, nA), dtype=np.float64)\n",
    "    Q_track = np.zeros((n_episodes, nS, nA), dtype=np.float64)\n",
    "\n",
    "    select_action = lambda state, Q, epsilon: \\\n",
    "        np.argmax(Q[state]) if np.random.random() > epsilon else np.random.choice(len(Q[state]))\n",
    "    \n",
    "    for e in tqdm(range(n_episodes), leave=False):\n",
    "        state, done = env.reset()[0], False\n",
    "        action = select_action(state, Q, epsilons[e])\n",
    "    \n",
    "        while not done:\n",
    "            next_state, reward, done, _, _ = env.step(action)\n",
    "            next_action = select_action(next_state, Q, epsilons[e])\n",
    "            td_target = reward + gamma * Q[next_state][next_action] * (not done)\n",
    "            td_error = td_target - Q[state][action]\n",
    "            \n",
    "            Q[state][action] = Q[state][action] + alphas[e] * td_error\n",
    "            state, acton = next_state, next_action\n",
    "            \n",
    "        Q_track[e] = Q\n",
    "        pi_track.append(np.argmax(Q, axis=1))\n",
    "    V = np.max(Q, axis=1)\n",
    "    pi = lambda s: {s:a for s, a in enumerate(np.argmax(Q, axis=1))}[s]\n",
    "    \n",
    "    return Q, V, pi, Q_track, pi_track"
   ]
  },
  {
   "cell_type": "code",
   "execution_count": 18,
   "id": "cb98df69-e049-4c43-924c-3f1661512292",
   "metadata": {},
   "outputs": [
    {
     "name": "stderr",
     "output_type": "stream",
     "text": [
      "                                                                                                                                                  \r"
     ]
    }
   ],
   "source": [
    "Q_s, V_t, pi, Q_track, pi_track = sarsa(env)"
   ]
  },
  {
   "cell_type": "code",
   "execution_count": 19,
   "id": "121b24ad-55a9-4d35-8cc4-477e5107cdc1",
   "metadata": {},
   "outputs": [
    {
     "data": {
      "text/plain": [
       "[<matplotlib.lines.Line2D at 0x74c8a4920cd0>]"
      ]
     },
     "execution_count": 19,
     "metadata": {},
     "output_type": "execute_result"
    },
    {
     "data": {
      "image/png": "[encoded data removed]",
      "text/plain": [
       "<Figure size 640x480 with 1 Axes>"
      ]
     },
     "metadata": {},
     "output_type": "display_data"
    }
   ],
   "source": [
    "plt.plot(Q_track[:, 6, 1])"
   ]
  },
  {
   "cell_type": "code",
   "execution_count": 20,
   "id": "9666cab5-7a74-47b6-b124-c120953fc1c2",
   "metadata": {},
   "outputs": [
    {
     "data": {
      "text/plain": [
       "array([0.        , 0.51021857, 0.83308684, 0.93834752, 0.97217473,\n",
       "       0.98636167, 0.99263674, 0.99736404, 0.        ])"
      ]
     },
     "execution_count": 20,
     "metadata": {},
     "output_type": "execute_result"
    }
   ],
   "source": [
    "V_t"
   ]
  },
  {
   "cell_type": "markdown",
   "id": "17cbb878-c1a3-4fe2-ae40-b79e36f13829",
   "metadata": {},
   "source": [
    "## Q-learning, an off-policy control optimization\n",
    "### As seen by the different  run hyperparameters Q-learning converges much faster than SARSA (in this env at least)"
   ]
  },
  {
   "cell_type": "code",
   "execution_count": 27,
   "id": "11358413-46fe-4de4-bffb-136c0837d6b3",
   "metadata": {},
   "outputs": [],
   "source": [
    "def q_learning(env,\n",
    "          gamma=1.0,\n",
    "          init_alpha=0.5,\n",
    "          min_alpha=0.01,\n",
    "          alpha_decay_ratio=0.3,\n",
    "          init_epsilon=0.5,\n",
    "          min_epsilon=0.01,\n",
    "          epsilon_decay_ratio=0.9,\n",
    "          n_episodes=3000):\n",
    "    nS, nA = env.observation_space.n, env.action_space.n\n",
    "    alphas = decay_schedule(init_alpha, min_alpha, alpha_decay_ratio, n_episodes)\n",
    "    epsilons = decay_schedule(init_epsilon, min_epsilon, epsilon_decay_ratio, n_episodes)\n",
    "\n",
    "    pi_track = []\n",
    "    Q = np.zeros((nS, nA), dtype=np.float64)\n",
    "    Q_track = np.zeros((n_episodes, nS, nA), dtype=np.float64)\n",
    "\n",
    "    select_action = lambda state, Q, epsilon: \\\n",
    "        np.argmax(Q[state]) if np.random.random() > epsilon else np.random.choice(len(Q[state]))\n",
    "    \n",
    "    for e in tqdm(range(n_episodes), leave=False):\n",
    "        state, done = env.reset()[0], False\n",
    "    \n",
    "        while not done:\n",
    "            action = select_action(state, Q, epsilons[e])\n",
    "            next_state, reward, done, _, _ = env.step(action)\n",
    "            td_target = reward + gamma * Q[next_state].max() * (not done)\n",
    "            td_error = td_target - Q[state][action]\n",
    "            Q[state][action] += alphas[e] * td_error\n",
    "            state = next_state\n",
    "            \n",
    "        Q_track[e] = Q\n",
    "        pi_track.append(np.argmax(Q, axis=1))\n",
    "    V = np.max(Q, axis=1)\n",
    "    pi = lambda s: {s:a for s, a in enumerate(np.argmax(Q, axis=1))}[s]\n",
    "    \n",
    "    return Q, V, pi, Q_track, pi_track"
   ]
  },
  {
   "cell_type": "code",
   "execution_count": 28,
   "id": "0e5eb7f7-b2b2-4325-a610-11d919187206",
   "metadata": {},
   "outputs": [
    {
     "name": "stderr",
     "output_type": "stream",
     "text": [
      "                                                                                                                                                  \r"
     ]
    }
   ],
   "source": [
    "Q_s, V_t, pi, Q_track, pi_track = q_learning(env)"
   ]
  },
  {
   "cell_type": "code",
   "execution_count": 29,
   "id": "3cf2a8c4-ed89-470e-a619-4f78a0c3dae4",
   "metadata": {},
   "outputs": [
    {
     "data": {
      "text/plain": [
       "[<matplotlib.lines.Line2D at 0x74c8a43d5760>]"
      ]
     },
     "execution_count": 29,
     "metadata": {},
     "output_type": "execute_result"
    },
    {
     "data": {
      "image/png": "[encoded data removed]",
      "text/plain": [
       "<Figure size 640x480 with 1 Axes>"
      ]
     },
     "metadata": {},
     "output_type": "display_data"
    }
   ],
   "source": [
    "plt.plot(Q_track[:, 1, 1])"
   ]
  },
  {
   "cell_type": "code",
   "execution_count": 21,
   "id": "76a6f1eb-c10c-4618-ad08-4e34d0d7b955",
   "metadata": {},
   "outputs": [
    {
     "data": {
      "text/plain": [
       "array([0.        , 0.51021857, 0.83308684, 0.93834752, 0.97217473,\n",
       "       0.98636167, 0.99263674, 0.99736404, 0.        ])"
      ]
     },
     "execution_count": 21,
     "metadata": {},
     "output_type": "execute_result"
    }
   ],
   "source": [
    "V_t"
   ]
  },
  {
   "cell_type": "markdown",
   "id": "9602538e-8b59-4409-aa69-b49584600a57",
   "metadata": {},
   "source": [
    "## Double Q-learning: avoiding value overestimation\n",
    "### Curing maximization bias by separating exploration policy from estimation policy "
   ]
  },
  {
   "cell_type": "code",
   "execution_count": 22,
   "id": "01539c4a-7612-4b86-b312-77bf23d6b1ec",
   "metadata": {},
   "outputs": [],
   "source": [
    "def double_q_learning(env,\n",
    "          gamma=1.0,\n",
    "          init_alpha=0.5,\n",
    "          min_alpha=0.01,\n",
    "          alpha_decay_ratio=0.3,\n",
    "          init_epsilon=0.5,\n",
    "          min_epsilon=0.01,\n",
    "          epsilon_decay_ratio=0.9,\n",
    "          n_episodes=3000):\n",
    "    nS, nA = env.observation_space.n, env.action_space.n\n",
    "    alphas = decay_schedule(init_alpha, min_alpha, alpha_decay_ratio, n_episodes)\n",
    "    epsilons = decay_schedule(init_epsilon, min_epsilon, epsilon_decay_ratio, n_episodes)\n",
    "\n",
    "    pi_track = []\n",
    "    Q1 = np.zeros((nS, nA), dtype=np.float64)\n",
    "    Q1_track = np.zeros((n_episodes, nS, nA), dtype=np.float64)\n",
    "    Q2 = np.zeros((nS, nA), dtype=np.float64)\n",
    "    Q2_track = np.zeros((n_episodes, nS, nA), dtype=np.float64)\n",
    "\n",
    "    select_action = lambda state, Q, epsilon: \\\n",
    "        np.argmax(Q[state]) if np.random.random() > epsilon else np.random.choice(len(Q[state]))\n",
    "    \n",
    "    for e in tqdm(range(n_episodes), leave=False):\n",
    "        state, done = env.reset()[0], False\n",
    "\n",
    "        while not done:\n",
    "            action = select_action(state, (Q1 + Q2)/2., epsilons[e])\n",
    "            next_state, reward, done, _, _ = env.step(action)\n",
    "            \n",
    "            if np.random.randint(2):\n",
    "                argmax_Q1 = np.argmax(Q1[next_state])\n",
    "                td_target = reward + gamma * Q2[next_state].max() * (not done)\n",
    "                td_error = td_target - Q2[state][action]\n",
    "                Q2[state][action] += alphas[e] * td_error\n",
    "            else:\n",
    "                argmax_Q2 = np.argmax(Q2[next_state])\n",
    "                td_target = reward + gamma * Q1[next_state].max() * (not done)\n",
    "                td_error = td_target - Q1[state][action]\n",
    "                Q1[state][action] += alphas[e] * td_error\n",
    "            \n",
    "            state = next_state\n",
    "            \n",
    "        Q1_track[e] = Q1\n",
    "        Q2_track[e] = Q2\n",
    "        pi_track.append(np.argmax((Q1 + Q2)/2., axis=1))\n",
    "\n",
    "    Q = (Q1 + Q2)/2.\n",
    "    V = np.max(Q, axis=1)\n",
    "    pi = lambda s: {s:a for s, a in enumerate(np.argmax(Q, axis=1))}[s]\n",
    "    \n",
    "    return Q, V, pi, (Q1_track + Q2_track)/2., pi_track"
   ]
  },
  {
   "cell_type": "code",
   "execution_count": 23,
   "id": "de942498-af1f-4492-9a01-e36d4ceb6004",
   "metadata": {},
   "outputs": [
    {
     "name": "stderr",
     "output_type": "stream",
     "text": [
      "                                                                                                                                                  \r"
     ]
    }
   ],
   "source": [
    "Q_s, V_t, pi, Q_track, pi_track = double_q_learning(env)"
   ]
  },
  {
   "cell_type": "code",
   "execution_count": 24,
   "id": "8f0b3224-5c50-43ce-9153-b29c3535803f",
   "metadata": {},
   "outputs": [
    {
     "data": {
      "text/plain": [
       "array([0.        , 0.65224687, 0.89766322, 0.97246202, 0.99158654,\n",
       "       0.99741752, 0.99926036, 0.99981825, 0.        ])"
      ]
     },
     "execution_count": 24,
     "metadata": {},
     "output_type": "execute_result"
    }
   ],
   "source": [
    "V_t"
   ]
  },
  {
   "cell_type": "code",
   "execution_count": 26,
   "id": "d6410f51-6cb4-4648-8694-0ff9d936519e",
   "metadata": {},
   "outputs": [
    {
     "data": {
      "text/plain": [
       "[<matplotlib.lines.Line2D at 0x74c8a41a8fd0>]"
      ]
     },
     "execution_count": 26,
     "metadata": {},
     "output_type": "execute_result"
    },
    {
     "data": {
      "image/png": "[encoded data removed]",
      "text/plain": [
       "<Figure size 640x480 with 1 Axes>"
      ]
     },
     "metadata": {},
     "output_type": "display_data"
    }
   ],
   "source": [
    "plt.plot(Q_track[:, 1, 1])"
   ]
  },
  {
   "cell_type": "code",
   "execution_count": null,
   "id": "e93c52da-0cde-446b-96eb-1ee3f59ed36b",
   "metadata": {},
   "outputs": [],
   "source": []
  }
 ],
 "metadata": {
  "kernelspec": {
   "display_name": "tf39",
   "language": "python",
   "name": "tf39"
  },
  "language_info": {
   "codemirror_mode": {
    "name": "ipython",
    "version": 3
   },
   "file_extension": ".py",
   "mimetype": "text/x-python",
   "name": "python",
   "nbconvert_exporter": "python",
   "pygments_lexer": "ipython3",
   "version": "3.9.18"
  }
 },
 "nbformat": 4,
 "nbformat_minor": 5
}
