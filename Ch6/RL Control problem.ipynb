{
 "cells": [
  {
   "cell_type": "markdown",
   "id": "2cb45705-b94a-46d5-8b02-418887b40e7e",
   "metadata": {},
   "source": [
    "# Policy Optimization - the control problem of RL"
   ]
  },
  {
   "cell_type": "markdown",
   "id": "857c251b-0724-44d9-9f9d-0e5ac0fd0120",
   "metadata": {},
   "source": [
    "### Legacy repo does not work with gymnasium so some installs and hacks are needed"
   ]
  },
  {
   "cell_type": "code",
   "execution_count": 2,
   "id": "279e608c",
   "metadata": {},
   "outputs": [],
   "source": [
    "#!pip install git+https://github.com/mimoralea/gym-walk#egg=gym-walk"
   ]
  },
  {
   "cell_type": "code",
   "execution_count": 1,
   "id": "8b73a030",
   "metadata": {},
   "outputs": [],
   "source": [
    "#!pip install gym_walk\n",
    "#!pip install gymnasium"
   ]
  },
  {
   "cell_type": "code",
   "execution_count": 1,
   "id": "bb7f658f",
   "metadata": {},
   "outputs": [],
   "source": [
    "#import numpy as np\n",
    "#import gymnasium as gym, gym_walk\n",
    "#import gymnasium as gym\n",
    "#from gym_walk.envs import WalkEnv"
   ]
  },
  {
   "cell_type": "code",
   "execution_count": 2,
   "id": "0a0a3439-383d-4da9-9273-c4a7dafbd9ba",
   "metadata": {},
   "outputs": [],
   "source": [
    "#from gymnasium.envs.registration import register"
   ]
  },
  {
   "cell_type": "code",
   "execution_count": 3,
   "id": "e5ec3d92-b836-4573-869a-87950d29dd10",
   "metadata": {},
   "outputs": [],
   "source": [
    "#register(\n",
    "#    # One non-terminal states and two terminal\n",
    "#    # Technically speaking, this is a bandit MDP\n",
    "#    id='BanditWalk-v0',\n",
    "#    entry_point='gym_walk.envs:WalkEnv',\n",
    "#    # left-most and right-most states are terminal\n",
    "#    kwargs={'n_states': 1, 'p_stay': 0.0, 'p_backward': 0.0},\n",
    "#    max_episode_steps=100,\n",
    "#    reward_threshold=1.0,\n",
    "#    nondeterministic=True,\n",
    "#)"
   ]
  },
  {
   "cell_type": "code",
   "execution_count": 4,
   "id": "ef7fb69a-a565-4abf-a1d2-58ec39f33916",
   "metadata": {},
   "outputs": [],
   "source": [
    "#register(\n",
    "#    # One non-terminal states and two terminal\n",
    "#    # Technically speaking, this is a bandit MDP\n",
    "#    id='BanditSlipperyWalk-v0',\n",
    "#    entry_point='gym_walk.envs:WalkEnv',\n",
    "#    # left-most and right-most states are terminal\n",
    "#    kwargs={'n_states': 1, 'p_stay': 0.0, 'p_backward': 0.2},\n",
    "#    max_episode_steps=100,\n",
    "#    reward_threshold=1.0,\n",
    "#    nondeterministic=True,\n",
    "#)"
   ]
  },
  {
   "cell_type": "code",
   "execution_count": 5,
   "id": "c76394b4",
   "metadata": {},
   "outputs": [],
   "source": [
    "## (Stochastic) Markov Decission Problem: MDP\n",
    "## s a (p(a|s), s', r, Teminal?)\n",
    "#P = {\n",
    "#    0: {\n",
    "#        0: [(1.0, 0, 0.0, True)],\n",
    "#        1: [(1.0, 0, 0.0, True)]\n",
    "#    },\n",
    "#    1: {\n",
    "#        0: [(0.8, 0, 0.0, True), (0.2, 2, 1.0, True)],\n",
    "#        1: [(0.8, 2, 1.0, True), (0.2, 0, 0.0, True)]\n",
    "#    },\n",
    "#    2: {\n",
    "#        0: [(1.0, 2, 0.0, True)],\n",
    "#        1: [(1.0, 2, 0.0, True)]\n",
    "#    }\n",
    "#}"
   ]
  },
  {
   "cell_type": "code",
   "execution_count": 6,
   "id": "47da04df",
   "metadata": {},
   "outputs": [],
   "source": [
    "#env = gym.make('BanditWalk-v0')"
   ]
  },
  {
   "cell_type": "markdown",
   "id": "ea547b3f-ab4d-4a14-a86c-e2336986e9bf",
   "metadata": {},
   "source": [
    "# Environment setup"
   ]
  },
  {
   "cell_type": "markdown",
   "id": "8d5687dc-4a5b-4fe7-afaf-c477a3597454",
   "metadata": {},
   "source": [
    "### Upon installing gym_walk lib one can actuall directly instantiated envs used in the book by using proper env parameters"
   ]
  },
  {
   "cell_type": "code",
   "execution_count": 1,
   "id": "e6e6b665-3c3f-407a-9f34-33dcafb984ed",
   "metadata": {},
   "outputs": [],
   "source": [
    "import numpy as np\n",
    "from gym_walk.envs import WalkEnv\n",
    "\n",
    "from tqdm import tqdm\n",
    "import matplotlib.pyplot as plt\n",
    "\n",
    "from itertools import count"
   ]
  },
  {
   "cell_type": "markdown",
   "id": "9b04ba75-01d5-415d-afc1-31ad3a0dc184",
   "metadata": {},
   "source": [
    "### Slippery walk 1D AKA two-arm stochastic bandid"
   ]
  },
  {
   "cell_type": "code",
   "execution_count": 2,
   "id": "bdf79675-13c1-49dd-aa8a-64c67cd315bd",
   "metadata": {},
   "outputs": [],
   "source": [
    "env = WalkEnv(n_states=7, p_stay=0.33, p_backward=0.16)"
   ]
  },
  {
   "cell_type": "code",
   "execution_count": 3,
   "id": "63a00471-f724-4438-adfc-595b82e5c904",
   "metadata": {},
   "outputs": [
    {
     "data": {
      "text/plain": [
       "{0: {0: [(0.5099999999999999, 0, 0.0, True),\n",
       "   (0.33, 0, 0.0, True),\n",
       "   (0.16, 1, 0.0, False)],\n",
       "  1: [(0.5099999999999999, 1, 0.0, False),\n",
       "   (0.33, 0, 0.0, True),\n",
       "   (0.16, 0, 0.0, True)]},\n",
       " 1: {0: [(0.5099999999999999, 0, 0.0, True),\n",
       "   (0.33, 1, 0.0, False),\n",
       "   (0.16, 2, 0.0, False)],\n",
       "  1: [(0.5099999999999999, 2, 0.0, False),\n",
       "   (0.33, 1, 0.0, False),\n",
       "   (0.16, 0, 0.0, True)]},\n",
       " 2: {0: [(0.5099999999999999, 1, 0.0, False),\n",
       "   (0.33, 2, 0.0, False),\n",
       "   (0.16, 3, 0.0, False)],\n",
       "  1: [(0.5099999999999999, 3, 0.0, False),\n",
       "   (0.33, 2, 0.0, False),\n",
       "   (0.16, 1, 0.0, False)]},\n",
       " 3: {0: [(0.5099999999999999, 2, 0.0, False),\n",
       "   (0.33, 3, 0.0, False),\n",
       "   (0.16, 4, 0.0, False)],\n",
       "  1: [(0.5099999999999999, 4, 0.0, False),\n",
       "   (0.33, 3, 0.0, False),\n",
       "   (0.16, 2, 0.0, False)]},\n",
       " 4: {0: [(0.5099999999999999, 3, 0.0, False),\n",
       "   (0.33, 4, 0.0, False),\n",
       "   (0.16, 5, 0.0, False)],\n",
       "  1: [(0.5099999999999999, 5, 0.0, False),\n",
       "   (0.33, 4, 0.0, False),\n",
       "   (0.16, 3, 0.0, False)]},\n",
       " 5: {0: [(0.5099999999999999, 4, 0.0, False),\n",
       "   (0.33, 5, 0.0, False),\n",
       "   (0.16, 6, 0.0, False)],\n",
       "  1: [(0.5099999999999999, 6, 0.0, False),\n",
       "   (0.33, 5, 0.0, False),\n",
       "   (0.16, 4, 0.0, False)]},\n",
       " 6: {0: [(0.5099999999999999, 5, 0.0, False),\n",
       "   (0.33, 6, 0.0, False),\n",
       "   (0.16, 7, 0.0, False)],\n",
       "  1: [(0.5099999999999999, 7, 0.0, False),\n",
       "   (0.33, 6, 0.0, False),\n",
       "   (0.16, 5, 0.0, False)]},\n",
       " 7: {0: [(0.5099999999999999, 6, 0.0, False),\n",
       "   (0.33, 7, 0.0, False),\n",
       "   (0.16, 8, 1.0, True)],\n",
       "  1: [(0.5099999999999999, 8, 1.0, True),\n",
       "   (0.33, 7, 0.0, False),\n",
       "   (0.16, 6, 0.0, False)]},\n",
       " 8: {0: [(0.5099999999999999, 7, 0.0, False),\n",
       "   (0.33, 8, 0.0, True),\n",
       "   (0.16, 8, 0.0, True)],\n",
       "  1: [(0.5099999999999999, 8, 0.0, True),\n",
       "   (0.33, 8, 0.0, True),\n",
       "   (0.16, 7, 0.0, False)]}}"
      ]
     },
     "execution_count": 3,
     "metadata": {},
     "output_type": "execute_result"
    }
   ],
   "source": [
    "env.P"
   ]
  },
  {
   "cell_type": "code",
   "execution_count": 4,
   "id": "0db54547-0361-43d0-b94c-de2d8c2330e8",
   "metadata": {},
   "outputs": [
    {
     "data": {
      "text/plain": [
       "(4, {'prob': 1.0})"
      ]
     },
     "execution_count": 4,
     "metadata": {},
     "output_type": "execute_result"
    }
   ],
   "source": [
    "env.reset()"
   ]
  },
  {
   "cell_type": "code",
   "execution_count": 5,
   "id": "ea71903e-0643-4856-8140-dcf8345c0ecc",
   "metadata": {},
   "outputs": [
    {
     "data": {
      "text/plain": [
       "(5, 0.0, False, False, {'prob': 0.5099999999999999, 'success': False})"
      ]
     },
     "execution_count": 5,
     "metadata": {},
     "output_type": "execute_result"
    }
   ],
   "source": [
    "env.step(1)"
   ]
  },
  {
   "cell_type": "markdown",
   "id": "ddb4965d-2332-4d84-802b-148f1b45f819",
   "metadata": {},
   "source": [
    "## MC policy evaluation"
   ]
  },
  {
   "cell_type": "code",
   "execution_count": 6,
   "id": "fff31bdf-36ec-439d-bdab-58a19f0560d2",
   "metadata": {},
   "outputs": [
    {
     "data": {
      "text/plain": [
       "Discrete(2)"
      ]
     },
     "execution_count": 6,
     "metadata": {},
     "output_type": "execute_result"
    }
   ],
   "source": [
    "env.action_space"
   ]
  },
  {
   "cell_type": "code",
   "execution_count": 7,
   "id": "c832406e-2d7c-4f9c-8270-61959503ef7d",
   "metadata": {},
   "outputs": [
    {
     "data": {
      "text/plain": [
       "2"
      ]
     },
     "execution_count": 7,
     "metadata": {},
     "output_type": "execute_result"
    }
   ],
   "source": [
    "env.action_space.n"
   ]
  },
  {
   "cell_type": "code",
   "execution_count": 8,
   "id": "a9c77a96-9c78-465f-b3d6-494c20f76669",
   "metadata": {},
   "outputs": [
    {
     "data": {
      "text/plain": [
       "array([0.01      , 0.01668101, 0.02782559, 0.04641589, 0.07742637,\n",
       "       0.12915497, 0.21544347, 0.35938137, 0.59948425, 1.        ])"
      ]
     },
     "execution_count": 8,
     "metadata": {},
     "output_type": "execute_result"
    }
   ],
   "source": [
    "# 10^{-3...0} every 1/10, so we get 10 points of 10 raised to linear space power in the range [-3, 0]\n",
    "np.logspace(-2, 0, 10, base=10, endpoint=True)"
   ]
  },
  {
   "cell_type": "code",
   "execution_count": 94,
   "id": "2c2cc935-9ae3-4de7-bc69-afe9ef6d8f90",
   "metadata": {},
   "outputs": [
    {
     "data": {
      "text/plain": [
       "[<matplotlib.lines.Line2D at 0x7c9abe881d00>]"
      ]
     },
     "execution_count": 94,
     "metadata": {},
     "output_type": "execute_result"
    },
    {
     "data": {
      "image/png": "[encoded data removed]",
      "text/plain": [
       "<Figure size 640x480 with 1 Axes>"
      ]
     },
     "metadata": {},
     "output_type": "display_data"
    }
   ],
   "source": [
    "plt.plot(np.logspace(-2, 0, 10, base=10, endpoint=True)[::-1])"
   ]
  },
  {
   "cell_type": "code",
   "execution_count": 9,
   "id": "9bca0fc4-6e39-457c-ae16-d4b7b82e367a",
   "metadata": {},
   "outputs": [],
   "source": [
    "def decay_schedule(init_value,\n",
    "                   min_value,\n",
    "                   decay_ratio,\n",
    "                   max_steps,\n",
    "                   log_start=-2,\n",
    "                   log_base=10):\n",
    "    \n",
    "    decay_steps = int(decay_ratio * max_steps)\n",
    "    rem_steps = max_steps - decay_steps\n",
    "    values = np.logspace(log_start, 0, decay_steps, base=log_base, endpoint=True)[::-1]\n",
    "    values = (values - values.min())/(values.max() - values.min())\n",
    "    values = (init_value - min_value) * values + min_value\n",
    "    # padding (0, rem_steps) padds 0 elements on the left and rem_steps elements on the right, with edge value\n",
    "    values = np.pad(values, (0, rem_steps), 'edge')\n",
    "    \n",
    "    return values"
   ]
  },
  {
   "cell_type": "code",
   "execution_count": 8,
   "id": "785081d0-adf5-47a1-8988-6c924c75f075",
   "metadata": {},
   "outputs": [],
   "source": [
    "# Generate a single experience trajectory passing an episode up to done or max_steps limit\n",
    "def generate_trajectory(select_action, Q, epsilon, env, max_steps=200):\n",
    "    done, trajectory = False, []\n",
    "    while not done:\n",
    "        state = env.reset()[0] # There was no [0] in the Grokking RL book\n",
    "        for t in count():\n",
    "            # In control problem we allow for a more generic action selection\n",
    "            action = select_action(state, Q, epsilon)\n",
    "            # Typical step return value for walk-5:\n",
    "            # (5, 0.0, False, False, {'prob': 0.5, 'success': False})\n",
    "            next_state, reward, done, _ , _= env.step(action)\n",
    "            experience = (state, action, reward, next_state, done)\n",
    "            trajectory.append(experience)\n",
    "            if done:\n",
    "                break\n",
    "            if t >= max_steps - 1:\n",
    "                trajectory = []\n",
    "                break\n",
    "            state = next_state\n",
    "\n",
    "    return np.array(trajectory, 'object')"
   ]
  },
  {
   "cell_type": "code",
   "execution_count": 16,
   "id": "b821330a-dacb-40bb-a405-c5b0a8daa0e9",
   "metadata": {},
   "outputs": [],
   "source": [
    "def mc_control(env,\n",
    "               gamma=1.0,\n",
    "               init_alpha=0.5,\n",
    "               min_alpha=0.01,\n",
    "               alpha_decay_ratio=0.3,\n",
    "               init_epsilon=0.5,\n",
    "               min_epsilon=0.01,\n",
    "               epsilon_decay_ratio=0.3,\n",
    "               n_episodes=3000,\n",
    "               max_steps=200,\n",
    "               first_visit=True):\n",
    "    nS, nA = env.observation_space.n, env.action_space.n\n",
    "    discounts = np.logspace(0, max_steps, num=max_steps, base=gamma, endpoint=False)\n",
    "    alphas = decay_schedule(init_alpha, min_alpha, alpha_decay_ratio, n_episodes)\n",
    "    epsilons = decay_schedule(init_epsilon, min_epsilon, epsilon_decay_ratio, n_episodes)\n",
    "\n",
    "    pi_track = []\n",
    "    Q = np.zeros((nS, nA), dtype=np.float64)\n",
    "    Q_track = np.zeros((n_episodes, nS, nA), dtype=np.float64)\n",
    "\n",
    "    select_action = lambda state, Q, epsilon: \\\n",
    "        np.argmax(Q[state]) if epsilon > np.random.random() else np.random.choice(len(Q[state]))\n",
    "    \n",
    "    for e in tqdm(range(n_episodes), leave=False):\n",
    "        trajectory = generate_trajectory(select_action, Q, epsilons[e], env, max_steps)\n",
    "        visited = np.zeros((nS, nA), dtype='bool')\n",
    "        # Original line in the book has the unused reward element\n",
    "        #for t, (state, _, reward, _, _) in enumerate(trajectory):\n",
    "        for t, (state, action, reward, _, _) in enumerate(trajectory):\n",
    "            if visited[state][action] and first_visit:\n",
    "                continue\n",
    "            visited[state][action] = True\n",
    "            n_steps = len(trajectory[t:])\n",
    "            G = np.sum(discounts[:n_steps] * trajectory[t:, 2])\n",
    "            Q[state][action] = Q[state][action] + alphas[e] * (G - Q[state][action])\n",
    "            \n",
    "        Q_track[e] = Q\n",
    "        pi_track.append(np.argmax(Q, axis=1))\n",
    "    V = np.max(Q, axis=1)\n",
    "    pi = lambda s: {s:a for s, a in enumerate(np.argmax(Q, axis=1))}[s]\n",
    "    \n",
    "    return Q, V, pi, Q_track, pi_track\n",
    "        "
   ]
  },
  {
   "cell_type": "code",
   "execution_count": 17,
   "id": "b1d3772e-05ae-4c6f-b4b3-a9394e4e92f2",
   "metadata": {},
   "outputs": [
    {
     "name": "stderr",
     "output_type": "stream",
     "text": [
      "                                                                                                                                                  \r"
     ]
    }
   ],
   "source": [
    "Q_s, V_t, pi, Q_track, pi_track = mc_control(env)"
   ]
  },
  {
   "cell_type": "code",
   "execution_count": 19,
   "id": "5472fc5c-7e5c-46b8-b58a-0510fa46fc5b",
   "metadata": {},
   "outputs": [
    {
     "data": {
      "text/plain": [
       "(9, 2)"
      ]
     },
     "execution_count": 19,
     "metadata": {},
     "output_type": "execute_result"
    }
   ],
   "source": [
    "Q_s.shape"
   ]
  },
  {
   "cell_type": "code",
   "execution_count": 20,
   "id": "45a86faa-f64e-477b-ac4e-a37598eb4f9e",
   "metadata": {},
   "outputs": [
    {
     "data": {
      "text/plain": [
       "array([[0.        , 0.        ],\n",
       "       [0.09445341, 0.2126048 ],\n",
       "       [0.22871215, 0.29814423],\n",
       "       [0.32764218, 0.41042915],\n",
       "       [0.45063618, 0.58343454],\n",
       "       [0.58194128, 0.69777941],\n",
       "       [0.70791595, 0.80416476],\n",
       "       [0.81405381, 0.89827679],\n",
       "       [0.        , 0.        ]])"
      ]
     },
     "execution_count": 20,
     "metadata": {},
     "output_type": "execute_result"
    }
   ],
   "source": [
    "Q_s"
   ]
  },
  {
   "cell_type": "code",
   "execution_count": 21,
   "id": "033d5c24-ab61-4ce7-850a-ac39fa5fa31e",
   "metadata": {},
   "outputs": [
    {
     "data": {
      "text/plain": [
       "array([0.        , 0.2126048 , 0.29814423, 0.41042915, 0.58343454,\n",
       "       0.69777941, 0.80416476, 0.89827679, 0.        ])"
      ]
     },
     "execution_count": 21,
     "metadata": {},
     "output_type": "execute_result"
    }
   ],
   "source": [
    "V_t"
   ]
  },
  {
   "cell_type": "code",
   "execution_count": 22,
   "id": "4ba1fcc8-c3d7-4886-a800-2c39cca33954",
   "metadata": {},
   "outputs": [
    {
     "data": {
      "text/plain": [
       "(3000, 9, 2)"
      ]
     },
     "execution_count": 22,
     "metadata": {},
     "output_type": "execute_result"
    }
   ],
   "source": [
    "Q_track.shape"
   ]
  },
  {
   "cell_type": "code",
   "execution_count": 25,
   "id": "099dbd4b-54de-40b1-91bf-6eb83f58fc7c",
   "metadata": {},
   "outputs": [
    {
     "data": {
      "text/plain": [
       "(9,)"
      ]
     },
     "execution_count": 25,
     "metadata": {},
     "output_type": "execute_result"
    }
   ],
   "source": [
    "pi_track[0].shape"
   ]
  },
  {
   "cell_type": "code",
   "execution_count": 28,
   "id": "ffc0e795-d59f-4fa4-8c62-3bcd43783a12",
   "metadata": {},
   "outputs": [
    {
     "data": {
      "text/plain": [
       "(3000,)"
      ]
     },
     "execution_count": 28,
     "metadata": {},
     "output_type": "execute_result"
    }
   ],
   "source": [
    "Q_track[:,0,0].shape"
   ]
  },
  {
   "cell_type": "code",
   "execution_count": 30,
   "id": "8404283e-3a0e-4bd9-b905-54ecf6874400",
   "metadata": {},
   "outputs": [
    {
     "data": {
      "text/plain": [
       "[<matplotlib.lines.Line2D at 0x7fd10b0ce730>]"
      ]
     },
     "execution_count": 30,
     "metadata": {},
     "output_type": "execute_result"
    },
    {
     "data": {
      "image/png": "[encoded data removed]",
      "text/plain": [
       "<Figure size 640x480 with 1 Axes>"
      ]
     },
     "metadata": {},
     "output_type": "display_data"
    }
   ],
   "source": [
    "plt.plot(Q_track[:, 4, 0])"
   ]
  },
  {
   "cell_type": "code",
   "execution_count": 31,
   "id": "d3f74d10-3cc7-4ac3-a074-e590e27e2128",
   "metadata": {},
   "outputs": [
    {
     "data": {
      "text/plain": [
       "[<matplotlib.lines.Line2D at 0x7fd10c258370>]"
      ]
     },
     "execution_count": 31,
     "metadata": {},
     "output_type": "execute_result"
    },
    {
     "data": {
      "image/png": "[encoded data removed]",
      "text/plain": [
       "<Figure size 640x480 with 1 Axes>"
      ]
     },
     "metadata": {},
     "output_type": "display_data"
    }
   ],
   "source": [
    "plt.plot(Q_track[:, 4, 1])"
   ]
  },
  {
   "cell_type": "markdown",
   "id": "1c3976b7-7de6-4146-bc56-ed3afe2351c2",
   "metadata": {},
   "source": [
    "## TD Learning - less variance and more sample efficient estimation"
   ]
  },
  {
   "cell_type": "code",
   "execution_count": 47,
   "id": "7043df56-8a43-4b5c-a2fd-860dcfd2cf08",
   "metadata": {},
   "outputs": [
    {
     "data": {
      "text/plain": [
       "gym_walk.envs.walk_env.WalkEnv"
      ]
     },
     "execution_count": 47,
     "metadata": {},
     "output_type": "execute_result"
    }
   ],
   "source": [
    "type(env)"
   ]
  },
  {
   "cell_type": "code",
   "execution_count": 52,
   "id": "3242d1bd-a86f-4f49-8884-a8b93dbcdab1",
   "metadata": {},
   "outputs": [],
   "source": [
    "def td(pi,\n",
    "       env:WalkEnv, # Hinting gives member unroll\n",
    "       gamma=1.0,\n",
    "       init_alpha=0.5,\n",
    "       min_alpha=0.01,\n",
    "       alpha_decay_ratio=0.3,\n",
    "       n_episodes=500):\n",
    "    \n",
    "    nS = env.observation_space.n\n",
    "    V = np.zeros(nS)\n",
    "    V_track = np.zeros((n_episodes, nS))\n",
    "    alphas = decay_schedule(init_alpha, min_alpha, alpha_decay_ratio, n_episodes)\n",
    "\n",
    "    for e in tqdm(range(n_episodes), leave=False):\n",
    "        state, done = env.reset()[0], False # No [0] in the Grokking book\n",
    "        while not done:\n",
    "            action = pi(state)\n",
    "            next_state, reward, done, _, _ = env.step(action)\n",
    "            td_target = reward + gamma * V[next_state] * (not done)\n",
    "            td_error = td_target - V[state]\n",
    "            V[state] += alphas[e] * td_error\n",
    "            state = next_state\n",
    "        V_track[e] = V\n",
    "\n",
    "    return V, V_track\n",
    "    "
   ]
  },
  {
   "cell_type": "code",
   "execution_count": 76,
   "id": "7ed2ab2a-b3f2-4cf6-a441-9467ac9cc31d",
   "metadata": {},
   "outputs": [
    {
     "name": "stderr",
     "output_type": "stream",
     "text": [
      "                                                                                                                                                  \r"
     ]
    }
   ],
   "source": [
    "v_s, v_t = td(pi, env)"
   ]
  },
  {
   "cell_type": "markdown",
   "id": "51e1a467-bce2-496d-b082-e67b922dc45b",
   "metadata": {},
   "source": [
    "### The result is quite close to the above MC estimation"
   ]
  },
  {
   "cell_type": "code",
   "execution_count": 77,
   "id": "651228cc-4569-40a2-b370-520dcd5eb1cf",
   "metadata": {},
   "outputs": [
    {
     "data": {
      "text/plain": [
       "array([0.        , 0.1525791 , 0.32895029, 0.50950566, 0.6629426 ,\n",
       "       0.81507306, 0.        ])"
      ]
     },
     "execution_count": 77,
     "metadata": {},
     "output_type": "execute_result"
    }
   ],
   "source": [
    "v_s"
   ]
  },
  {
   "cell_type": "markdown",
   "id": "a6c0a20c-09be-4511-8981-3819284c30d5",
   "metadata": {},
   "source": [
    "## n-step TD"
   ]
  },
  {
   "cell_type": "code",
   "execution_count": 86,
   "id": "d47a28ad-c107-4618-abb7-69042a073017",
   "metadata": {},
   "outputs": [],
   "source": [
    "def ntd(pi,\n",
    "        env,\n",
    "        gamma=1.0,\n",
    "        init_alpha=0.5,\n",
    "        min_alpha=0.01,\n",
    "        alpha_decay_ratio=0.5,\n",
    "        n_step=3,\n",
    "        n_episodes=500):\n",
    "    \n",
    "    nS = env.observation_space.n\n",
    "    V = np.zeros(nS)\n",
    "    V_track = np.zeros((n_episodes, nS))\n",
    "    alphas = decay_schedule(init_alpha, min_alpha, alpha_decay_ratio, n_episodes)\n",
    "    discounts = np.logspace(0, n_step+1, num=n_step+1, base=gamma, endpoint=False)\n",
    "    \n",
    "    for e in tqdm(range(n_episodes), leave=False):\n",
    "        state, done, path = env.reset()[0], False, [] # No [0] in the Grokking book\n",
    "        \n",
    "        while not done or path is not None:\n",
    "            # This pops first element of the experience buffer path, leading\n",
    "            # to the 'triangle' computation of n-TD estimates until the whole\n",
    "            # experience buffer in path is exhausted\n",
    "            path = path[1:]\n",
    "            \n",
    "            # Here we generate a short n_step long experience trajectory\n",
    "            # for n-TD reward estimation\n",
    "            # This is actually a sliding window which creates, and in subsequent external while\n",
    "            # loop passes extends, the experience buffer until done is encountered, after which \n",
    "            # only the external while is exectued and this block is not called anymore\n",
    "            while not done and len(path) < n_step:\n",
    "                action = pi(state)\n",
    "                next_state, reward, done, _, _ = env.step(action)\n",
    "                # Crucially this state below first comes from before the external while loop\n",
    "                # and therefore contains the initial state from env.reset() at first iteration\n",
    "                # and so path starts from the reset state at the very first pass through it\n",
    "                experience = (state, reward, next_state, done)\n",
    "                path.append(experience)\n",
    "                state = next_state\n",
    "                if done:\n",
    "                    break\n",
    "            \n",
    "            # This is the remaining number of elements in the experience buffer in the external\n",
    "            # while loop\n",
    "            n = len(path)\n",
    "            \n",
    "            # State for which value update is being computed\n",
    "            # It is estimation state, because at this state \n",
    "            # V_{t+n-1}(S_{t}) is being updated to become V_{t+n}(S_{t})\n",
    "            # I.e. the state at which estimation is currently being done\n",
    "            # Crucially on the first pass of the external while this state is the \n",
    "            # env.reset() initial env state\n",
    "            est_state = path[0][0]\n",
    "\n",
    "            # This reward is R_{t+1}, so after action is taken and S_{t} is left\n",
    "            rewards = np.array(path)[:, 1]\n",
    "            \n",
    "            # G_{t:t+n}\n",
    "            partial_return = discounts[:n] * rewards\n",
    "            # Here we have [-1] and not n beacuse this term only appears if path \n",
    "            # has not yeat encountered done state. If termina state is in the path buffer\n",
    "            # then there is no need to estimate rewards till the end of the trajectory,\n",
    "            # becasue they are alredy known (because done has been reached).\n",
    "            # So it makes sense to multiply the estimate by rewards[-1], whish is always\n",
    "            # gamma^n_step becasue it will only be present when done==Fasle and then n==n_step\n",
    "            # so [-1] correctly gives the power continuing discount factors from the partial_return\n",
    "            bs_val = discounts[-1] * V[next_state] * (not done)\n",
    "            ntd_target = np.sum(np.append(partial_return, bs_val))\n",
    "            ntd_error = ntd_target - V[est_state]\n",
    "            V[est_state] += alphas[e] * ntd_error\n",
    "\n",
    "            if len(path) == 1 and path[0][3]:\n",
    "                path = None\n",
    "        V_track[e] = V\n",
    "    return V, V_track\n",
    "            "
   ]
  },
  {
   "cell_type": "code",
   "execution_count": 87,
   "id": "a1e8c0e8-3cd0-4cec-9ddd-ba461afd6054",
   "metadata": {},
   "outputs": [
    {
     "name": "stderr",
     "output_type": "stream",
     "text": [
      "                                                                                                                                                  \r"
     ]
    }
   ],
   "source": [
    "v_s, v_t = ntd(pi, env)"
   ]
  },
  {
   "cell_type": "code",
   "execution_count": 88,
   "id": "2cdc9ce8-abe8-493d-aaf6-39b6496587b7",
   "metadata": {},
   "outputs": [
    {
     "data": {
      "text/plain": [
       "array([0.        , 0.18696672, 0.3345082 , 0.47962317, 0.66893093,\n",
       "       0.83411262, 0.        ])"
      ]
     },
     "execution_count": 88,
     "metadata": {},
     "output_type": "execute_result"
    }
   ],
   "source": [
    "v_s"
   ]
  },
  {
   "cell_type": "markdown",
   "id": "c882bb7d-d45a-4633-8779-50bc34b9db40",
   "metadata": {},
   "source": [
    "## Backward looking TD(\\lambda)"
   ]
  },
  {
   "cell_type": "code",
   "execution_count": 89,
   "id": "47b054aa-1b6b-4474-a530-252bf2caa3fa",
   "metadata": {},
   "outputs": [],
   "source": [
    "def td_lambda(pi,\n",
    "              env,\n",
    "              gamma=1.0,\n",
    "              init_alpha=0.5,\n",
    "              min_alpha=0.01,\n",
    "              alpha_decay_ratio=0.5,\n",
    "              lambda_=0.3,\n",
    "              n_episodes=500):\n",
    "    nS = env.observation_space.n\n",
    "    V = np.zeros(nS)\n",
    "    V_track = np.zeros((n_episodes, nS))\n",
    "    E = np.zeros(nS)\n",
    "    alphas = decay_schedule(init_alpha, min_alpha, alpha_decay_ratio, n_episodes)\n",
    "\n",
    "    for e in tqdm(range(n_episodes), leave=False):\n",
    "        E.fill(0)\n",
    "        state, done = env.reset()[0], False\n",
    "        while not done:\n",
    "            action = pi(state)\n",
    "            next_state, reward, done, _, _ = env.step(action)\n",
    "            td_target = reward + gamma * V[next_state] * (not done)\n",
    "            td_error = td_target - V[state]\n",
    "            E[state] += 1\n",
    "            V = V + alphas[e] * td_error * E\n",
    "            E = gamma * lambda_ * E\n",
    "\n",
    "            state = next_state\n",
    "        V_track[e] = V\n",
    "        \n",
    "    return V, V_track\n",
    "        "
   ]
  },
  {
   "cell_type": "code",
   "execution_count": 90,
   "id": "32268163-c150-456e-904f-e0753fdb62ad",
   "metadata": {},
   "outputs": [
    {
     "name": "stderr",
     "output_type": "stream",
     "text": [
      "                                                                                                                                                  \r"
     ]
    }
   ],
   "source": [
    "v_s, v_t = td_lambda(pi, env)"
   ]
  },
  {
   "cell_type": "code",
   "execution_count": 91,
   "id": "127c15a9-da05-45a2-8d3f-d9bed8dfb2c0",
   "metadata": {},
   "outputs": [
    {
     "data": {
      "text/plain": [
       "array([0.        , 0.12276795, 0.30122835, 0.47160785, 0.65002088,\n",
       "       0.82679418, 0.        ])"
      ]
     },
     "execution_count": 91,
     "metadata": {},
     "output_type": "execute_result"
    }
   ],
   "source": [
    "v_s"
   ]
  },
  {
   "cell_type": "code",
   "execution_count": null,
   "id": "6bf5e77a-b4b2-4d81-9b4d-9cd968eedece",
   "metadata": {},
   "outputs": [],
   "source": []
  }
 ],
 "metadata": {
  "kernelspec": {
   "display_name": "tf39",
   "language": "python",
   "name": "tf39"
  },
  "language_info": {
   "codemirror_mode": {
    "name": "ipython",
    "version": 3
   },
   "file_extension": ".py",
   "mimetype": "text/x-python",
   "name": "python",
   "nbconvert_exporter": "python",
   "pygments_lexer": "ipython3",
   "version": "3.9.18"
  }
 },
 "nbformat": 4,
 "nbformat_minor": 5
}
