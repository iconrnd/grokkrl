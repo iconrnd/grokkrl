{
 "cells": [
  {
   "cell_type": "markdown",
   "id": "2cb45705-b94a-46d5-8b02-418887b40e7e",
   "metadata": {},
   "source": [
    "# Policy Optimization with more efficient samples utilization - model based control problem of RL"
   ]
  },
  {
   "cell_type": "markdown",
   "id": "857c251b-0724-44d9-9f9d-0e5ac0fd0120",
   "metadata": {},
   "source": [
    "### Legacy repo does not work with gymnasium so some installs and hacks are needed"
   ]
  },
  {
   "cell_type": "code",
   "execution_count": 2,
   "id": "279e608c",
   "metadata": {},
   "outputs": [],
   "source": [
    "#!pip install git+https://github.com/mimoralea/gym-walk#egg=gym-walk"
   ]
  },
  {
   "cell_type": "code",
   "execution_count": 1,
   "id": "8b73a030",
   "metadata": {},
   "outputs": [],
   "source": [
    "#!pip install gym_walk\n",
    "#!pip install gymnasium"
   ]
  },
  {
   "cell_type": "code",
   "execution_count": 1,
   "id": "bb7f658f",
   "metadata": {},
   "outputs": [],
   "source": [
    "#import numpy as np\n",
    "#import gymnasium as gym, gym_walk\n",
    "#import gymnasium as gym\n",
    "#from gym_walk.envs import WalkEnv"
   ]
  },
  {
   "cell_type": "code",
   "execution_count": 2,
   "id": "0a0a3439-383d-4da9-9273-c4a7dafbd9ba",
   "metadata": {},
   "outputs": [],
   "source": [
    "#from gymnasium.envs.registration import register"
   ]
  },
  {
   "cell_type": "code",
   "execution_count": 3,
   "id": "e5ec3d92-b836-4573-869a-87950d29dd10",
   "metadata": {},
   "outputs": [],
   "source": [
    "#register(\n",
    "#    # One non-terminal states and two terminal\n",
    "#    # Technically speaking, this is a bandit MDP\n",
    "#    id='BanditWalk-v0',\n",
    "#    entry_point='gym_walk.envs:WalkEnv',\n",
    "#    # left-most and right-most states are terminal\n",
    "#    kwargs={'n_states': 1, 'p_stay': 0.0, 'p_backward': 0.0},\n",
    "#    max_episode_steps=100,\n",
    "#    reward_threshold=1.0,\n",
    "#    nondeterministic=True,\n",
    "#)"
   ]
  },
  {
   "cell_type": "code",
   "execution_count": 4,
   "id": "ef7fb69a-a565-4abf-a1d2-58ec39f33916",
   "metadata": {},
   "outputs": [],
   "source": [
    "#register(\n",
    "#    # One non-terminal states and two terminal\n",
    "#    # Technically speaking, this is a bandit MDP\n",
    "#    id='BanditSlipperyWalk-v0',\n",
    "#    entry_point='gym_walk.envs:WalkEnv',\n",
    "#    # left-most and right-most states are terminal\n",
    "#    kwargs={'n_states': 1, 'p_stay': 0.0, 'p_backward': 0.2},\n",
    "#    max_episode_steps=100,\n",
    "#    reward_threshold=1.0,\n",
    "#    nondeterministic=True,\n",
    "#)"
   ]
  },
  {
   "cell_type": "code",
   "execution_count": 5,
   "id": "c76394b4",
   "metadata": {},
   "outputs": [],
   "source": [
    "## (Stochastic) Markov Decission Problem: MDP\n",
    "## s a (p(a|s), s', r, Teminal?)\n",
    "#P = {\n",
    "#    0: {\n",
    "#        0: [(1.0, 0, 0.0, True)],\n",
    "#        1: [(1.0, 0, 0.0, True)]\n",
    "#    },\n",
    "#    1: {\n",
    "#        0: [(0.8, 0, 0.0, True), (0.2, 2, 1.0, True)],\n",
    "#        1: [(0.8, 2, 1.0, True), (0.2, 0, 0.0, True)]\n",
    "#    },\n",
    "#    2: {\n",
    "#        0: [(1.0, 2, 0.0, True)],\n",
    "#        1: [(1.0, 2, 0.0, True)]\n",
    "#    }\n",
    "#}"
   ]
  },
  {
   "cell_type": "code",
   "execution_count": 6,
   "id": "47da04df",
   "metadata": {},
   "outputs": [],
   "source": [
    "#env = gym.make('BanditWalk-v0')"
   ]
  },
  {
   "cell_type": "markdown",
   "id": "ea547b3f-ab4d-4a14-a86c-e2336986e9bf",
   "metadata": {},
   "source": [
    "# Environment setup"
   ]
  },
  {
   "cell_type": "markdown",
   "id": "8d5687dc-4a5b-4fe7-afaf-c477a3597454",
   "metadata": {},
   "source": [
    "### Upon installing gym_walk lib one can actuall directly instantiate envs used in the book by using proper env parameters"
   ]
  },
  {
   "cell_type": "code",
   "execution_count": 1,
   "id": "e6e6b665-3c3f-407a-9f34-33dcafb984ed",
   "metadata": {},
   "outputs": [],
   "source": [
    "import numpy as np\n",
    "from gym_walk.envs import WalkEnv\n",
    "\n",
    "from tqdm import tqdm\n",
    "import matplotlib.pyplot as plt\n",
    "\n",
    "from itertools import count"
   ]
  },
  {
   "cell_type": "markdown",
   "id": "9b04ba75-01d5-415d-afc1-31ad3a0dc184",
   "metadata": {},
   "source": [
    "### Slippery walk 1D AKA two-arm stochastic bandid"
   ]
  },
  {
   "cell_type": "code",
   "execution_count": 2,
   "id": "bdf79675-13c1-49dd-aa8a-64c67cd315bd",
   "metadata": {},
   "outputs": [],
   "source": [
    "env = WalkEnv(n_states=7, p_stay=0.33, p_backward=0.16)"
   ]
  },
  {
   "cell_type": "code",
   "execution_count": 3,
   "id": "63a00471-f724-4438-adfc-595b82e5c904",
   "metadata": {},
   "outputs": [
    {
     "data": {
      "text/plain": [
       "{0: {0: [(0.5099999999999999, 0, 0.0, True),\n",
       "   (0.33, 0, 0.0, True),\n",
       "   (0.16, 1, 0.0, False)],\n",
       "  1: [(0.5099999999999999, 1, 0.0, False),\n",
       "   (0.33, 0, 0.0, True),\n",
       "   (0.16, 0, 0.0, True)]},\n",
       " 1: {0: [(0.5099999999999999, 0, 0.0, True),\n",
       "   (0.33, 1, 0.0, False),\n",
       "   (0.16, 2, 0.0, False)],\n",
       "  1: [(0.5099999999999999, 2, 0.0, False),\n",
       "   (0.33, 1, 0.0, False),\n",
       "   (0.16, 0, 0.0, True)]},\n",
       " 2: {0: [(0.5099999999999999, 1, 0.0, False),\n",
       "   (0.33, 2, 0.0, False),\n",
       "   (0.16, 3, 0.0, False)],\n",
       "  1: [(0.5099999999999999, 3, 0.0, False),\n",
       "   (0.33, 2, 0.0, False),\n",
       "   (0.16, 1, 0.0, False)]},\n",
       " 3: {0: [(0.5099999999999999, 2, 0.0, False),\n",
       "   (0.33, 3, 0.0, False),\n",
       "   (0.16, 4, 0.0, False)],\n",
       "  1: [(0.5099999999999999, 4, 0.0, False),\n",
       "   (0.33, 3, 0.0, False),\n",
       "   (0.16, 2, 0.0, False)]},\n",
       " 4: {0: [(0.5099999999999999, 3, 0.0, False),\n",
       "   (0.33, 4, 0.0, False),\n",
       "   (0.16, 5, 0.0, False)],\n",
       "  1: [(0.5099999999999999, 5, 0.0, False),\n",
       "   (0.33, 4, 0.0, False),\n",
       "   (0.16, 3, 0.0, False)]},\n",
       " 5: {0: [(0.5099999999999999, 4, 0.0, False),\n",
       "   (0.33, 5, 0.0, False),\n",
       "   (0.16, 6, 0.0, False)],\n",
       "  1: [(0.5099999999999999, 6, 0.0, False),\n",
       "   (0.33, 5, 0.0, False),\n",
       "   (0.16, 4, 0.0, False)]},\n",
       " 6: {0: [(0.5099999999999999, 5, 0.0, False),\n",
       "   (0.33, 6, 0.0, False),\n",
       "   (0.16, 7, 0.0, False)],\n",
       "  1: [(0.5099999999999999, 7, 0.0, False),\n",
       "   (0.33, 6, 0.0, False),\n",
       "   (0.16, 5, 0.0, False)]},\n",
       " 7: {0: [(0.5099999999999999, 6, 0.0, False),\n",
       "   (0.33, 7, 0.0, False),\n",
       "   (0.16, 8, 1.0, True)],\n",
       "  1: [(0.5099999999999999, 8, 1.0, True),\n",
       "   (0.33, 7, 0.0, False),\n",
       "   (0.16, 6, 0.0, False)]},\n",
       " 8: {0: [(0.5099999999999999, 7, 0.0, False),\n",
       "   (0.33, 8, 0.0, True),\n",
       "   (0.16, 8, 0.0, True)],\n",
       "  1: [(0.5099999999999999, 8, 0.0, True),\n",
       "   (0.33, 8, 0.0, True),\n",
       "   (0.16, 7, 0.0, False)]}}"
      ]
     },
     "execution_count": 3,
     "metadata": {},
     "output_type": "execute_result"
    }
   ],
   "source": [
    "env.P"
   ]
  },
  {
   "cell_type": "code",
   "execution_count": 4,
   "id": "0db54547-0361-43d0-b94c-de2d8c2330e8",
   "metadata": {},
   "outputs": [
    {
     "data": {
      "text/plain": [
       "(4, {'prob': 1.0})"
      ]
     },
     "execution_count": 4,
     "metadata": {},
     "output_type": "execute_result"
    }
   ],
   "source": [
    "env.reset()"
   ]
  },
  {
   "cell_type": "code",
   "execution_count": 5,
   "id": "ea71903e-0643-4856-8140-dcf8345c0ecc",
   "metadata": {},
   "outputs": [
    {
     "data": {
      "text/plain": [
       "(4, 0.0, False, False, {'prob': 0.33, 'success': False})"
      ]
     },
     "execution_count": 5,
     "metadata": {},
     "output_type": "execute_result"
    }
   ],
   "source": [
    "env.step(1)"
   ]
  },
  {
   "cell_type": "markdown",
   "id": "ddb4965d-2332-4d84-802b-148f1b45f819",
   "metadata": {},
   "source": [
    "## MC policy evaluation"
   ]
  },
  {
   "cell_type": "code",
   "execution_count": 6,
   "id": "fff31bdf-36ec-439d-bdab-58a19f0560d2",
   "metadata": {},
   "outputs": [
    {
     "data": {
      "text/plain": [
       "Discrete(2)"
      ]
     },
     "execution_count": 6,
     "metadata": {},
     "output_type": "execute_result"
    }
   ],
   "source": [
    "env.action_space"
   ]
  },
  {
   "cell_type": "code",
   "execution_count": 7,
   "id": "c832406e-2d7c-4f9c-8270-61959503ef7d",
   "metadata": {},
   "outputs": [
    {
     "data": {
      "text/plain": [
       "2"
      ]
     },
     "execution_count": 7,
     "metadata": {},
     "output_type": "execute_result"
    }
   ],
   "source": [
    "env.action_space.n"
   ]
  },
  {
   "cell_type": "code",
   "execution_count": 8,
   "id": "a9c77a96-9c78-465f-b3d6-494c20f76669",
   "metadata": {},
   "outputs": [
    {
     "data": {
      "text/plain": [
       "array([0.01      , 0.01668101, 0.02782559, 0.04641589, 0.07742637,\n",
       "       0.12915497, 0.21544347, 0.35938137, 0.59948425, 1.        ])"
      ]
     },
     "execution_count": 8,
     "metadata": {},
     "output_type": "execute_result"
    }
   ],
   "source": [
    "# 10^{-3...0} every 1/10, so we get 10 points of 10 raised to linear space power in the range [-3, 0]\n",
    "np.logspace(-2, 0, 10, base=10, endpoint=True)"
   ]
  },
  {
   "cell_type": "code",
   "execution_count": 94,
   "id": "2c2cc935-9ae3-4de7-bc69-afe9ef6d8f90",
   "metadata": {},
   "outputs": [
    {
     "data": {
      "text/plain": [
       "[<matplotlib.lines.Line2D at 0x7c9abe881d00>]"
      ]
     },
     "execution_count": 94,
     "metadata": {},
     "output_type": "execute_result"
    },
    {
     "data": {
      "image/png": "[encoded data removed]",
      "text/plain": [
       "<Figure size 640x480 with 1 Axes>"
      ]
     },
     "metadata": {},
     "output_type": "display_data"
    }
   ],
   "source": [
    "plt.plot(np.logspace(-2, 0, 10, base=10, endpoint=True)[::-1])"
   ]
  },
  {
   "cell_type": "code",
   "execution_count": 6,
   "id": "9bca0fc4-6e39-457c-ae16-d4b7b82e367a",
   "metadata": {},
   "outputs": [],
   "source": [
    "def decay_schedule(init_value,\n",
    "                   min_value,\n",
    "                   decay_ratio,\n",
    "                   max_steps,\n",
    "                   log_start=-2,\n",
    "                   log_base=10):\n",
    "    \n",
    "    decay_steps = int(decay_ratio * max_steps)\n",
    "    rem_steps = max_steps - decay_steps\n",
    "    values = np.logspace(log_start, 0, decay_steps, base=log_base, endpoint=True)[::-1]\n",
    "    values = (values - values.min())/(values.max() - values.min())\n",
    "    values = (init_value - min_value) * values + min_value\n",
    "    # padding (0, rem_steps) padds 0 elements on the left and rem_steps elements on the right, with edge value\n",
    "    values = np.pad(values, (0, rem_steps), 'edge')\n",
    "    \n",
    "    return values"
   ]
  },
  {
   "cell_type": "markdown",
   "id": "8c683c9f-9e5d-4433-b67a-5037228f4994",
   "metadata": {},
   "source": [
    "## SARSA(\\lambda) with replacing eligibility traces"
   ]
  },
  {
   "cell_type": "code",
   "execution_count": 9,
   "id": "6be20fac-7a74-42a4-8361-34c14e48eaf4",
   "metadata": {},
   "outputs": [],
   "source": [
    "def sarsa_lambda(env,\n",
    "          gamma=1.0,\n",
    "          init_alpha=0.5,\n",
    "          min_alpha=0.01,\n",
    "          alpha_decay_ratio=0.3,\n",
    "          init_epsilon=0.5,\n",
    "          min_epsilon=0.01,\n",
    "          epsilon_decay_ratio=0.9,\n",
    "          n_episodes=3000,\n",
    "          lambda_=0.5,\n",
    "          replacing_traces=True):\n",
    "    nS, nA = env.observation_space.n, env.action_space.n\n",
    "    alphas = decay_schedule(init_alpha, min_alpha, alpha_decay_ratio, n_episodes)\n",
    "    epsilons = decay_schedule(init_epsilon, min_epsilon, epsilon_decay_ratio, n_episodes)\n",
    "\n",
    "    pi_track = []\n",
    "    Q = np.zeros((nS, nA), dtype=np.float64)\n",
    "    Q_track = np.zeros((n_episodes, nS, nA), dtype=np.float64)\n",
    "\n",
    "    E = np.zeros((nS, nA), dtype=np.float64)\n",
    "    \n",
    "    select_action = lambda state, Q, epsilon: \\\n",
    "        np.argmax(Q[state]) if np.random.random() > epsilon else np.random.choice(len(Q[state]))\n",
    "    \n",
    "    for e in tqdm(range(n_episodes), leave=False):\n",
    "        E.fill(0)\n",
    "        \n",
    "        state, done = env.reset()[0], False\n",
    "        action = select_action(state, Q, epsilons[e])\n",
    "    \n",
    "        while not done:\n",
    "            next_state, reward, done, _, _ = env.step(action)\n",
    "            next_action = select_action(next_state, Q, epsilons[e])\n",
    "            td_target = reward + gamma * Q[next_state][next_action] * (not done)\n",
    "            td_error = td_target - Q[state][action]\n",
    "\n",
    "            E[state][action] = E[state][action] + 1\n",
    "            if replacing_traces: E.clip(0, 1, out=E)\n",
    "                \n",
    "            Q = Q + alphas[e] * td_error * E\n",
    "            E = gamma * lambda_ * E\n",
    "            \n",
    "            state, acton = next_state, next_action\n",
    "            \n",
    "        Q_track[e] = Q\n",
    "        pi_track.append(np.argmax(Q, axis=1))\n",
    "    \n",
    "    V = np.max(Q, axis=1)\n",
    "    pi = lambda s: {s:a for s, a in enumerate(np.argmax(Q, axis=1))}[s]\n",
    "    \n",
    "    return Q, V, pi, Q_track, pi_track"
   ]
  },
  {
   "cell_type": "code",
   "execution_count": 10,
   "id": "cb98df69-e049-4c43-924c-3f1661512292",
   "metadata": {},
   "outputs": [
    {
     "name": "stderr",
     "output_type": "stream",
     "text": [
      "                                                                                                                                                  \r"
     ]
    }
   ],
   "source": [
    "Q_s, V_t, pi, Q_track, pi_track = sarsa_lambda(env)"
   ]
  },
  {
   "cell_type": "code",
   "execution_count": 11,
   "id": "121b24ad-55a9-4d35-8cc4-477e5107cdc1",
   "metadata": {},
   "outputs": [
    {
     "data": {
      "text/plain": [
       "[<matplotlib.lines.Line2D at 0x7d78a4a71430>]"
      ]
     },
     "execution_count": 11,
     "metadata": {},
     "output_type": "execute_result"
    },
    {
     "data": {
      "image/png": "[encoded data removed]",
      "text/plain": [
       "<Figure size 640x480 with 1 Axes>"
      ]
     },
     "metadata": {},
     "output_type": "display_data"
    }
   ],
   "source": [
    "plt.plot(Q_track[:, 1, 1])"
   ]
  },
  {
   "cell_type": "code",
   "execution_count": 21,
   "id": "9666cab5-7a74-47b6-b124-c120953fc1c2",
   "metadata": {},
   "outputs": [
    {
     "data": {
      "text/plain": [
       "array([0.        , 0.46703682, 0.79947859, 0.9139864 , 0.96611605,\n",
       "       0.98628231, 0.99193206, 0.9970668 , 0.        ])"
      ]
     },
     "execution_count": 21,
     "metadata": {},
     "output_type": "execute_result"
    }
   ],
   "source": [
    "V_t"
   ]
  },
  {
   "cell_type": "markdown",
   "id": "f8272f2b-7777-4920-b58a-0e54214188e3",
   "metadata": {},
   "source": [
    "## Watkins Q(\\lambda) - Q-learning with replacing eligibility traces\n",
    "### This again converges faster than SARSA(\\lambda) above"
   ]
  },
  {
   "cell_type": "code",
   "execution_count": 4,
   "id": "3f79a5e2-0aac-4d07-8c45-25743af1d17d",
   "metadata": {},
   "outputs": [],
   "source": [
    "def q_lambda(env,\n",
    "          gamma=1.0,\n",
    "          init_alpha=0.5,\n",
    "          min_alpha=0.01,\n",
    "          alpha_decay_ratio=0.3,\n",
    "          init_epsilon=0.5,\n",
    "          min_epsilon=0.01,\n",
    "          epsilon_decay_ratio=0.9,\n",
    "          n_episodes=3000,\n",
    "          lambda_=0.5,\n",
    "          replacing_traces=True):\n",
    "    nS, nA = env.observation_space.n, env.action_space.n\n",
    "    alphas = decay_schedule(init_alpha, min_alpha, alpha_decay_ratio, n_episodes)\n",
    "    epsilons = decay_schedule(init_epsilon, min_epsilon, epsilon_decay_ratio, n_episodes)\n",
    "\n",
    "    pi_track = []\n",
    "    Q = np.zeros((nS, nA), dtype=np.float64)\n",
    "    Q_track = np.zeros((n_episodes, nS, nA), dtype=np.float64)\n",
    "\n",
    "    E = np.zeros((nS, nA), dtype=np.float64)\n",
    "    \n",
    "    select_action = lambda state, Q, epsilon: \\\n",
    "        np.argmax(Q[state]) if np.random.random() > epsilon else np.random.choice(len(Q[state]))\n",
    "    \n",
    "    for e in tqdm(range(n_episodes), leave=False):\n",
    "        E.fill(0)\n",
    "        \n",
    "        state, done = env.reset()[0], False\n",
    "        # This is absent in Q-learning (where next action is taken greedly withing Q update rule)\n",
    "        # but here it is needed like in SARSA for testing if action is selected greedily\n",
    "        # to adjust eligibility traces accordngly\n",
    "        action = select_action(state, Q, epsilons[e])\n",
    "    \n",
    "        while not done:\n",
    "            next_state, reward, done, _, _ = env.step(action)\n",
    "            next_action = select_action(next_state, Q, epsilons[e])\n",
    "\n",
    "            # This test will condition wether eligibility trace will get an update\n",
    "            # Only greedy next_actions will get one in order to enforce \n",
    "            # converging to the greedy policy \n",
    "            next_action_is_greedy = \\\n",
    "                Q[next_state][next_action] == Q[next_state].max()\n",
    "            \n",
    "            td_target = reward + gamma * Q[next_state].max() * (not done)\n",
    "            td_error = td_target - Q[state][action]\n",
    "\n",
    "            # In this replacing traces approach the whole trace of a given state (i.e. for all its actions)\n",
    "            # is cleared\n",
    "            if replacing_traces: E.fill(0)\n",
    "            E[state][action] = E[state][action] + 1\n",
    "            Q = Q + alphas[e] * td_error * E\n",
    "            # If action is greedy we allow for updates accumulaton across subsequent episode steps\n",
    "            if next_action_is_greedy:\n",
    "                E = gamma * lambda_ * E\n",
    "            else:\n",
    "                # if suboptimal action is taken (non-greedy) then we clear the resulting accumulation of\n",
    "                # this particular state-action pair\n",
    "                E.fill(0)\n",
    "            \n",
    "            state, acton = next_state, next_action\n",
    "            \n",
    "        Q_track[e] = Q\n",
    "        pi_track.append(np.argmax(Q, axis=1))\n",
    "    \n",
    "    V = np.max(Q, axis=1)\n",
    "    pi = lambda s: {s:a for s, a in enumerate(np.argmax(Q, axis=1))}[s]\n",
    "    \n",
    "    return Q, V, pi, Q_track, pi_track"
   ]
  },
  {
   "cell_type": "code",
   "execution_count": 5,
   "id": "2fb46bfa-0d3c-4c84-9700-eafb20fdb417",
   "metadata": {},
   "outputs": [
    {
     "name": "stderr",
     "output_type": "stream",
     "text": [
      "                                                                                                                                                  \r"
     ]
    }
   ],
   "source": [
    "Q_s, V_t, pi, Q_track, pi_track = q_lambda(env)"
   ]
  },
  {
   "cell_type": "code",
   "execution_count": 6,
   "id": "17915642-a9d5-4670-9baf-79a4cd836251",
   "metadata": {},
   "outputs": [
    {
     "data": {
      "text/plain": [
       "array([0.        , 0.52063584, 0.82387638, 0.94943825, 0.98423483,\n",
       "       0.99583252, 0.99861287, 0.99965963, 0.        ])"
      ]
     },
     "execution_count": 6,
     "metadata": {},
     "output_type": "execute_result"
    }
   ],
   "source": [
    "V_t"
   ]
  },
  {
   "cell_type": "code",
   "execution_count": 8,
   "id": "3744ee58-45fc-4634-b541-8ac48e20d5ad",
   "metadata": {},
   "outputs": [
    {
     "data": {
      "text/plain": [
       "[<matplotlib.lines.Line2D at 0x7d78a4ae28e0>]"
      ]
     },
     "execution_count": 8,
     "metadata": {},
     "output_type": "execute_result"
    },
    {
     "data": {
      "image/png": "[encoded data removed]",
      "text/plain": [
       "<Figure size 640x480 with 1 Axes>"
      ]
     },
     "metadata": {},
     "output_type": "display_data"
    }
   ],
   "source": [
    "plt.plot(Q_track[:, 1, 1])"
   ]
  },
  {
   "cell_type": "markdown",
   "id": "067f4f3c-1f96-4335-b0bc-1118688c3873",
   "metadata": {},
   "source": [
    "## Dyna-Q - learning a MDP model from sampled env interaction to increase sample efficiency"
   ]
  },
  {
   "cell_type": "code",
   "execution_count": 11,
   "id": "08c3b4f5-7ffb-4b85-b19a-193322715e25",
   "metadata": {},
   "outputs": [],
   "source": [
    "def dyna_q(env,\n",
    "          gamma=1.0,\n",
    "          init_alpha=0.5,\n",
    "          min_alpha=0.01,\n",
    "          alpha_decay_ratio=0.3,\n",
    "          init_epsilon=0.5,\n",
    "          min_epsilon=0.01,\n",
    "          epsilon_decay_ratio=0.9,\n",
    "          n_episodes=3000,\n",
    "          n_planning=3):\n",
    "    nS, nA = env.observation_space.n, env.action_space.n\n",
    "    alphas = decay_schedule(init_alpha, min_alpha, alpha_decay_ratio, n_episodes)\n",
    "    epsilons = decay_schedule(init_epsilon, min_epsilon, epsilon_decay_ratio, n_episodes)\n",
    "\n",
    "    pi_track = []\n",
    "    Q = np.zeros((nS, nA), dtype=np.float64)\n",
    "    Q_track = np.zeros((n_episodes, nS, nA), dtype=np.float64)\n",
    "\n",
    "    # The \"model\" of MDP\n",
    "    T_count  = np.zeros((nS, nA, nS), dtype=np.int64)\n",
    "    R_model  = np.zeros((nS, nA, nS), dtype=np.float64)\n",
    "    \n",
    "    select_action = lambda state, Q, epsilon: \\\n",
    "        np.argmax(Q[state]) if np.random.random() > epsilon else np.random.choice(len(Q[state]))\n",
    "    \n",
    "    for e in tqdm(range(n_episodes), leave=False):    \n",
    "        state, done = env.reset()[0], False\n",
    "    \n",
    "        while not done:\n",
    "            # In-loop action selection like in Q-learning\n",
    "            action = select_action(state, Q, epsilons[e])\n",
    "\n",
    "            next_state, reward, done, _, _ = env.step(action)\n",
    "            next_action = select_action(next_state, Q, epsilons[e])\n",
    "\n",
    "            # Model \"training\" step after env sample collected\n",
    "            T_count[state][action][next_state] += 1\n",
    "            r_diff = reward - R_model[state][action][next_state]\n",
    "            R_model[state][action][next_state] += r_diff / (T_count[state][action][next_state])\n",
    "            # Off-policy TD update with greedy action like in Q-learning\n",
    "            td_target = reward + gamma * Q[next_state][next_action].max() * (not done)\n",
    "            td_error = td_target - Q[state][action]\n",
    "                \n",
    "            Q[state][action] = Q[state][action] + alphas[e] * td_error\n",
    "            \n",
    "            backup_next_state = next_state\n",
    "\n",
    "            # Plannig based Q update\n",
    "            for _ in range(n_planning):\n",
    "                if Q.sum() == 0: break\n",
    "                visited_states = np.where(np.sum(T_count, axis=(1, 2)) > 0)[0]\n",
    "                # In Dyna-Q we sample the whole (visited) state space uniformly\n",
    "                # regardless of the current episode progression\n",
    "                # (we are here within the given episode loop)\n",
    "                state = np.random.choice(visited_states)\n",
    "\n",
    "                actions_taken = np.where(np.sum(T_count[state], axis=1) > 0)[0]\n",
    "                action = np.random.choice(actions_taken)\n",
    "\n",
    "                # Now we model empirical transition probabilities to next_states\n",
    "                probs = T_count[state][action] / T_count[state][action].sum()\n",
    "                next_state = np.random.choice(np.arange(nS), size=1, p=probs)[0]\n",
    "\n",
    "                reward = R_model[state][action][next_state]\n",
    "                td_target = reward + gamma * Q[next_state].max()\n",
    "                td_error = td_target - Q[state][action]\n",
    "                Q[state][action] += alphas[e] * td_error\n",
    "\n",
    "            state = backup_next_state\n",
    "        \n",
    "        Q_track[e] = Q\n",
    "        pi_track.append(np.argmax(Q, axis=1))\n",
    "    \n",
    "    V = np.max(Q, axis=1)\n",
    "    pi = lambda s: {s:a for s, a in enumerate(np.argmax(Q, axis=1))}[s]\n",
    "    \n",
    "    return Q, V, pi, Q_track, pi_track"
   ]
  },
  {
   "cell_type": "code",
   "execution_count": 12,
   "id": "8e3d872c-070d-4606-a5fb-7f115de116ea",
   "metadata": {},
   "outputs": [
    {
     "name": "stderr",
     "output_type": "stream",
     "text": [
      "                                                                                                                                                  \r"
     ]
    }
   ],
   "source": [
    "Q_s, V_t, pi, Q_track, pi_track = dyna_q(env)"
   ]
  },
  {
   "cell_type": "code",
   "execution_count": 13,
   "id": "342b3a8e-5371-4bf6-bc3d-0d662c982927",
   "metadata": {},
   "outputs": [
    {
     "data": {
      "text/plain": [
       "array([0.        , 0.66509627, 0.90072719, 0.96097227, 0.98849485,\n",
       "       0.99667493, 0.99918661, 0.99982222, 0.        ])"
      ]
     },
     "execution_count": 13,
     "metadata": {},
     "output_type": "execute_result"
    }
   ],
   "source": [
    "V_t"
   ]
  },
  {
   "cell_type": "markdown",
   "id": "e61bc970-6f69-474e-afa6-eb672eb63f80",
   "metadata": {},
   "source": [
    "#### Model based methods have high error spikes early on due to large initial environment model inaccuracy, but converges faster (per real env sampling step) due to more updates done to Q value per episode passage"
   ]
  },
  {
   "cell_type": "code",
   "execution_count": 14,
   "id": "4f3088eb-e233-4087-8e36-d32933d41c35",
   "metadata": {},
   "outputs": [
    {
     "data": {
      "text/plain": [
       "[<matplotlib.lines.Line2D at 0x775e733c1190>]"
      ]
     },
     "execution_count": 14,
     "metadata": {},
     "output_type": "execute_result"
    },
    {
     "data": {
      "image/png": "[encoded data removed]",
      "text/plain": [
       "<Figure size 640x480 with 1 Axes>"
      ]
     },
     "metadata": {},
     "output_type": "display_data"
    }
   ],
   "source": [
    "plt.plot(Q_track[:, 1, 1])"
   ]
  },
  {
   "cell_type": "markdown",
   "id": "bff4db0d-7717-4ff6-b336-acfbb5560d52",
   "metadata": {},
   "source": [
    "## Trajectory sampling - Dyna-Q with episode-likely state-action sampling"
   ]
  },
  {
   "cell_type": "code",
   "execution_count": 12,
   "id": "ad399c16-a8a4-4771-b947-3248b74a4bbd",
   "metadata": {},
   "outputs": [],
   "source": [
    "def trajectory_sampling(env,\n",
    "          gamma=1.0,  \n",
    "          init_alpha=0.5,\n",
    "          min_alpha=0.01,\n",
    "          alpha_decay_ratio=0.3,\n",
    "          init_epsilon=0.5,\n",
    "          min_epsilon=0.01,\n",
    "          epsilon_decay_ratio= 0.9,\n",
    "          n_episodes=3000,\n",
    "          max_trajectory_depth=100):\n",
    "    nS, nA = env.observation_space.n, env.action_space.n\n",
    "    alphas = decay_schedule(init_alpha, min_alpha, alpha_decay_ratio, n_episodes)\n",
    "    epsilons = decay_schedule(init_epsilon, min_epsilon, epsilon_decay_ratio, n_episodes)\n",
    "\n",
    "    pi_track = [] \n",
    "    Q = np.zeros((nS, nA), dtype=np.float64)\n",
    "    Q_track = np.zeros((n_episodes, nS, nA), dtype=np.float64)\n",
    "\n",
    "    # The \"model\" of MDP\n",
    "    T_count  = np.zeros((nS, nA, nS), dtype=np.int64)\n",
    "    R_model  = np.zeros((nS, nA, nS), dtype=np.float64)\n",
    "    \n",
    "    select_action = lambda state, Q, epsilon: \\\n",
    "        np.argmax(Q[state]) if np.random.random() > epsilon else np.random.choice(len(Q[state]))\n",
    "    \n",
    "    for e in tqdm(range(n_episodes), leave=False):    \n",
    "        state, done = env.reset()[0], False\n",
    "    \n",
    "        while not done:\n",
    "            # In-loop action selection like in Q-learning\n",
    "            action = select_action(state, Q, epsilons[e])\n",
    "\n",
    "            next_state, reward, done, _, _ = env.step(action)\n",
    "            next_action = select_action(next_state, Q, epsilons[e])\n",
    "\n",
    "            # Model \"training\" step after env sample collected\n",
    "            T_count[state][action][next_state] += 1\n",
    "            r_diff = reward - R_model[state][action][next_state]\n",
    "            R_model[state][action][next_state] += r_diff / (T_count[state][action][next_state])\n",
    "            # Off-policy TD update with greedy action like in Q-learning\n",
    "            td_target = reward + gamma * Q[next_state][next_action].max() * (not done)\n",
    "            td_error = td_target - Q[state][action]\n",
    "                \n",
    "            Q[state][action] += alphas[e] * td_error\n",
    "             \n",
    "            backup_next_state = next_state\n",
    "\n",
    "            # Plannig based Q update\n",
    "            for _ in range(max_trajectory_depth) :\n",
    "                if Q.sum() == 0: break\n",
    "                \n",
    "                # Main point of trajectory sampling: selecting next action\n",
    "                # like in standard TD/SARSA/Q methods to 'virtually' follow up on the state from\n",
    "                # the current epoch state (in the loop one level up)\n",
    "                # After performing the update the ordinary sampling-based episode continuation will\n",
    "                # resume\n",
    "                # On or Off policy action selection\n",
    "                # action = select_action(state, Q, epsilons[e])\n",
    "                action = Q[state].argmax()\n",
    "                # Checking if action was taken ever before\n",
    "                if not T_count[state][action].sum(): break\n",
    "                \n",
    "                # Now we model empirical transition probabilities to next_states\n",
    "                probs = T_count[state][action] / T_count[state][action].sum()\n",
    "                next_state = np.random.choice(np.arange(nS), size=1, p=probs)[0]\n",
    "\n",
    "                reward = R_model[state][action][next_state]\n",
    "                td_target = reward + gamma * Q[next_state].max()\n",
    "                td_error = td_target - Q[state][action]\n",
    "                Q[state][action] += alphas[e] * td_error\n",
    "\n",
    "                # 'Virtual' follow-up of the trajectory in the planning phase of\n",
    "                # this internal loop\n",
    "                state = next_state\n",
    "            \n",
    "            # Going back to the env sampling phase of the episode loop and\n",
    "            # continuing 'real' follow-ups of the state\n",
    "            state = backup_next_state\n",
    "        \n",
    "        Q_track[e] = Q\n",
    "        pi_track.append(np.argmax(Q, axis=1))\n",
    "    \n",
    "    V = np.max(Q, axis=1)\n",
    "    pi = lambda s: {s:a for s, a in enumerate(np.argmax(Q, axis=1))}[s]\n",
    "    \n",
    "    return Q, V, pi, Q_track, pi_track "
   ]
  },
  {
   "cell_type": "code",
   "execution_count": 11,
   "id": "6d5afe06-9622-4958-b9e3-d942b2bd358b",
   "metadata": {},
   "outputs": [
    {
     "name": "stderr",
     "output_type": "stream",
     "text": [
      "                                                                                                                                                  \r"
     ]
    }
   ],
   "source": [
    "Q_s, V_t, pi, Q_track, pi_track = trajectory_sampling(env)"
   ]
  },
  {
   "cell_type": "code",
   "execution_count": 13,
   "id": "5d0d9382-887d-487d-a18d-250a1a8ee54c",
   "metadata": {},
   "outputs": [
    {
     "data": {
      "text/plain": [
       "array([0.        , 0.72443048, 0.90657872, 0.97095444, 0.99125808,\n",
       "       0.99725871, 0.99918783, 0.99979215, 0.        ])"
      ]
     },
     "execution_count": 13,
     "metadata": {},
     "output_type": "execute_result"
    }
   ],
   "source": [
    "V_t"
   ]
  },
  {
   "cell_type": "markdown",
   "id": "6f31d46f-c590-49de-8c21-e556d5baaf8f",
   "metadata": {},
   "source": [
    "#### Same as with Dyna-Q, model based methods have high error spikes early on due to large initial environment model inaccuracy, but converges faster (per real env sampling step) due to more updates done to Q value per episode passage"
   ]
  },
  {
   "cell_type": "code",
   "execution_count": 14,
   "id": "7a512376-03ba-4b17-9b92-023accbfcb91",
   "metadata": {},
   "outputs": [
    {
     "data": {
      "text/plain": [
       "[<matplotlib.lines.Line2D at 0x7858c8472610>]"
      ]
     },
     "execution_count": 14,
     "metadata": {},
     "output_type": "execute_result"
    },
    {
     "data": {
      "image/png": "[encoded data removed]",
      "text/plain": [
       "<Figure size 640x480 with 1 Axes>"
      ]
     },
     "metadata": {},
     "output_type": "display_data"
    }
   ],
   "source": [
    "plt.plot(Q_track[:, 1, 1])"
   ]
  },
  {
   "cell_type": "code",
   "execution_count": null,
   "id": "726fac2a-d5ae-4975-886a-83938d05eb73",
   "metadata": {},
   "outputs": [],
   "source": [
    "   "
   ]
  }
 ],
 "metadata": {
  "kernelspec": {
   "display_name": "tf39",
   "language": "python",
   "name": "tf39"
  },
  "language_info": {
   "codemirror_mode": {
    "name": "ipython",
    "version": 3
   },
   "file_extension": ".py",
   "mimetype": "text/x-python",
   "name": "python",
   "nbconvert_exporter": "python",
   "pygments_lexer": "ipython3",
   "version": "3.9.18"
  }
 },
 "nbformat": 4,
 "nbformat_minor": 5
}
