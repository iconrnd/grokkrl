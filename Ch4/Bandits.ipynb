{
 "cells": [
  {
   "cell_type": "markdown",
   "id": "2cb45705-b94a-46d5-8b02-418887b40e7e",
   "metadata": {},
   "source": [
    "# Multiarm badit sampling methods for exploration-exploitation tradeoff visualisation"
   ]
  },
  {
   "cell_type": "markdown",
   "id": "857c251b-0724-44d9-9f9d-0e5ac0fd0120",
   "metadata": {},
   "source": [
    "### Legacy repo does not work with gymnasium so some installs and hacks are needed"
   ]
  },
  {
   "cell_type": "code",
   "execution_count": 2,
   "id": "279e608c",
   "metadata": {},
   "outputs": [],
   "source": [
    "#!pip install git+https://github.com/mimoralea/gym-walk#egg=gym-walk"
   ]
  },
  {
   "cell_type": "code",
   "execution_count": 1,
   "id": "8b73a030",
   "metadata": {},
   "outputs": [],
   "source": [
    "#!pip install gym_walk\n",
    "#!pip install gymnasium"
   ]
  },
  {
   "cell_type": "code",
   "execution_count": 1,
   "id": "bb7f658f",
   "metadata": {},
   "outputs": [],
   "source": [
    "#import numpy as np\n",
    "#import gymnasium as gym, gym_walk\n",
    "#import gymnasium as gym\n",
    "#from gym_walk.envs import WalkEnv"
   ]
  },
  {
   "cell_type": "code",
   "execution_count": 2,
   "id": "0a0a3439-383d-4da9-9273-c4a7dafbd9ba",
   "metadata": {},
   "outputs": [],
   "source": [
    "#from gymnasium.envs.registration import register"
   ]
  },
  {
   "cell_type": "code",
   "execution_count": 3,
   "id": "e5ec3d92-b836-4573-869a-87950d29dd10",
   "metadata": {},
   "outputs": [],
   "source": [
    "#register(\n",
    "#    # One non-terminal states and two terminal\n",
    "#    # Technically speaking, this is a bandit MDP\n",
    "#    id='BanditWalk-v0',\n",
    "#    entry_point='gym_walk.envs:WalkEnv',\n",
    "#    # left-most and right-most states are terminal\n",
    "#    kwargs={'n_states': 1, 'p_stay': 0.0, 'p_backward': 0.0},\n",
    "#    max_episode_steps=100,\n",
    "#    reward_threshold=1.0,\n",
    "#    nondeterministic=True,\n",
    "#)"
   ]
  },
  {
   "cell_type": "code",
   "execution_count": 4,
   "id": "ef7fb69a-a565-4abf-a1d2-58ec39f33916",
   "metadata": {},
   "outputs": [],
   "source": [
    "#register(\n",
    "#    # One non-terminal states and two terminal\n",
    "#    # Technically speaking, this is a bandit MDP\n",
    "#    id='BanditSlipperyWalk-v0',\n",
    "#    entry_point='gym_walk.envs:WalkEnv',\n",
    "#    # left-most and right-most states are terminal\n",
    "#    kwargs={'n_states': 1, 'p_stay': 0.0, 'p_backward': 0.2},\n",
    "#    max_episode_steps=100,\n",
    "#    reward_threshold=1.0,\n",
    "#    nondeterministic=True,\n",
    "#)"
   ]
  },
  {
   "cell_type": "code",
   "execution_count": 5,
   "id": "c76394b4",
   "metadata": {},
   "outputs": [],
   "source": [
    "## (Stochastic) Markov Decission Problem: MDP\n",
    "## s a (p(a|s), s', r, Teminal?)\n",
    "#P = {\n",
    "#    0: {\n",
    "#        0: [(1.0, 0, 0.0, True)],\n",
    "#        1: [(1.0, 0, 0.0, True)]\n",
    "#    },\n",
    "#    1: {\n",
    "#        0: [(0.8, 0, 0.0, True), (0.2, 2, 1.0, True)],\n",
    "#        1: [(0.8, 2, 1.0, True), (0.2, 0, 0.0, True)]\n",
    "#    },\n",
    "#    2: {\n",
    "#        0: [(1.0, 2, 0.0, True)],\n",
    "#        1: [(1.0, 2, 0.0, True)]\n",
    "#    }\n",
    "#}"
   ]
  },
  {
   "cell_type": "code",
   "execution_count": 6,
   "id": "47da04df",
   "metadata": {},
   "outputs": [],
   "source": [
    "#env = gym.make('BanditWalk-v0')"
   ]
  },
  {
   "cell_type": "markdown",
   "id": "ea547b3f-ab4d-4a14-a86c-e2336986e9bf",
   "metadata": {},
   "source": [
    "# Environment setup"
   ]
  },
  {
   "cell_type": "markdown",
   "id": "8d5687dc-4a5b-4fe7-afaf-c477a3597454",
   "metadata": {},
   "source": [
    "### Upon installing gym_walk lib one can actuall directly instantiated envs used in the book by using proper env parameters"
   ]
  },
  {
   "cell_type": "code",
   "execution_count": 2,
   "id": "e6e6b665-3c3f-407a-9f34-33dcafb984ed",
   "metadata": {},
   "outputs": [],
   "source": [
    "import numpy as np\n",
    "from gym_walk.envs import WalkEnv\n",
    "\n",
    "from tqdm import tqdm\n",
    "import matplotlib.pyplot as plt"
   ]
  },
  {
   "cell_type": "markdown",
   "id": "9b04ba75-01d5-415d-afc1-31ad3a0dc184",
   "metadata": {},
   "source": [
    "### Slippery walk 1D AKA two-arm stochastic bandid"
   ]
  },
  {
   "cell_type": "code",
   "execution_count": 3,
   "id": "bdf79675-13c1-49dd-aa8a-64c67cd315bd",
   "metadata": {},
   "outputs": [],
   "source": [
    "env = WalkEnv(n_states=1, p_stay=0.0, p_backward=0.2)"
   ]
  },
  {
   "cell_type": "code",
   "execution_count": 4,
   "id": "63a00471-f724-4438-adfc-595b82e5c904",
   "metadata": {},
   "outputs": [
    {
     "data": {
      "text/plain": [
       "{0: {0: [(0.8, 0, 0.0, True), (0.0, 0, 0.0, True), (0.2, 1, 0.0, False)],\n",
       "  1: [(0.8, 1, 0.0, False), (0.0, 0, 0.0, True), (0.2, 0, 0.0, True)]},\n",
       " 1: {0: [(0.8, 0, 0.0, True), (0.0, 1, 0.0, False), (0.2, 2, 1.0, True)],\n",
       "  1: [(0.8, 2, 1.0, True), (0.0, 1, 0.0, False), (0.2, 0, 0.0, True)]},\n",
       " 2: {0: [(0.8, 1, 0.0, False), (0.0, 2, 0.0, True), (0.2, 2, 0.0, True)],\n",
       "  1: [(0.8, 2, 0.0, True), (0.0, 2, 0.0, True), (0.2, 1, 0.0, False)]}}"
      ]
     },
     "execution_count": 4,
     "metadata": {},
     "output_type": "execute_result"
    }
   ],
   "source": [
    "env.P"
   ]
  },
  {
   "cell_type": "code",
   "execution_count": 5,
   "id": "0db54547-0361-43d0-b94c-de2d8c2330e8",
   "metadata": {},
   "outputs": [
    {
     "data": {
      "text/plain": [
       "(1, {'prob': 1.0})"
      ]
     },
     "execution_count": 5,
     "metadata": {},
     "output_type": "execute_result"
    }
   ],
   "source": [
    "env.reset()"
   ]
  },
  {
   "cell_type": "code",
   "execution_count": 6,
   "id": "ea71903e-0643-4856-8140-dcf8345c0ecc",
   "metadata": {},
   "outputs": [
    {
     "data": {
      "text/plain": [
       "(2, 1.0, True, False, {'prob': 0.8, 'success': True})"
      ]
     },
     "execution_count": 6,
     "metadata": {},
     "output_type": "execute_result"
    }
   ],
   "source": [
    "env.step(1)"
   ]
  },
  {
   "cell_type": "markdown",
   "id": "ddb4965d-2332-4d84-802b-148f1b45f819",
   "metadata": {},
   "source": [
    "## Policy Evaluation - Q value in one state env of multiarm bandit: proxy to Q values of RL with states and multiple actions"
   ]
  },
  {
   "cell_type": "code",
   "execution_count": 7,
   "id": "fff31bdf-36ec-439d-bdab-58a19f0560d2",
   "metadata": {},
   "outputs": [
    {
     "data": {
      "text/plain": [
       "Discrete(2)"
      ]
     },
     "execution_count": 7,
     "metadata": {},
     "output_type": "execute_result"
    }
   ],
   "source": [
    "env.action_space"
   ]
  },
  {
   "cell_type": "code",
   "execution_count": 8,
   "id": "c832406e-2d7c-4f9c-8270-61959503ef7d",
   "metadata": {},
   "outputs": [
    {
     "data": {
      "text/plain": [
       "2"
      ]
     },
     "execution_count": 8,
     "metadata": {},
     "output_type": "execute_result"
    }
   ],
   "source": [
    "env.action_space.n"
   ]
  },
  {
   "cell_type": "markdown",
   "id": "3ef3b64c-47af-435d-a19d-67cff5b53f67",
   "metadata": {},
   "source": [
    "### Exploration-exploitation strategies for Q-value estimation"
   ]
  },
  {
   "cell_type": "markdown",
   "id": "a8930ab5-f05b-485c-8ab1-f84f687ba6b2",
   "metadata": {},
   "source": [
    "### Pure Exploitation"
   ]
  },
  {
   "cell_type": "code",
   "execution_count": 1,
   "id": "e3298260-cef1-451f-9206-56a8a66bda42",
   "metadata": {},
   "outputs": [],
   "source": [
    "def pure_exploitation(env, n_episodes=5000):\n",
    "    Q = np.zeros((env.action_space.n))\n",
    "    N = np.zeros((env.action_space.n))\n",
    "\n",
    "    Qe = np.empty((n_episodes, env.action_space.n))\n",
    "    returns = np.empty(n_episodes)\n",
    "    actions = np.empty(n_episodes, dtype = int)\n",
    "\n",
    "    name = 'Pure exploitation'\n",
    "\n",
    "    for e in tqdm(range(n_episodes), desc='Episodes for: ' + name):#, leave=False):\n",
    "        action = np.argmax(Q)\n",
    "        _, reward, _, _, _= env.step(action)\n",
    "        N[action] += 1\n",
    "        Q[action] = Q[action] + (reward - Q[action]) / N[action]\n",
    "\n",
    "        Qe[e] = Q\n",
    "        returns[e] = reward\n",
    "        actions[e] = action\n",
    "\n",
    "    return name, returns, Qe, actions"
   ]
  },
  {
   "cell_type": "markdown",
   "id": "adae8810-5044-451a-a727-20059429714d",
   "metadata": {},
   "source": [
    "### Pure Exploration"
   ]
  },
  {
   "cell_type": "code",
   "execution_count": 24,
   "id": "d65deb51-59db-468b-b7fb-b1403407c8eb",
   "metadata": {},
   "outputs": [],
   "source": [
    "def pure_exploration(env, n_episodes=5000):\n",
    "    Q = np.zeros((env.action_space.n))\n",
    "    N = np.zeros((env.action_space.n))\n",
    "\n",
    "    Qe = np.empty((n_episodes, env.action_space.n))\n",
    "    returns = np.empty(n_episodes)\n",
    "    actions = np.empty(n_episodes, dtype = int)\n",
    "\n",
    "    name = 'Pure exploration'\n",
    "\n",
    "    for e in tqdm(range(n_episodes), desc='Episodes for: ' + name):#, leave=False):\n",
    "        action = np.random.randint(len(Q))\n",
    "        _, reward, _, _, _= env.step(action)\n",
    "        N[action] += 1\n",
    "        Q[action] = Q[action] + (reward - Q[action]) / N[action]\n",
    "\n",
    "        Qe[e] = Q\n",
    "        returns[e] = reward\n",
    "        actions[e] = action\n",
    "\n",
    "    return name, returns, Qe, actions"
   ]
  },
  {
   "cell_type": "markdown",
   "id": "603fce80-9169-4f84-a40a-08c296b7b891",
   "metadata": {},
   "source": [
    "### Softmax Exploration"
   ]
  },
  {
   "cell_type": "code",
   "execution_count": 18,
   "id": "2e1ecfdc-9e93-41fc-ac50-d9b486f7fbb3",
   "metadata": {},
   "outputs": [],
   "source": [
    "def softmax_exploration(env,\n",
    "                       init_temp=1000.0,\n",
    "                       min_temp=0.01,\n",
    "                       decay_ratio=0.2,\n",
    "                       n_episodes=5000):\n",
    "    Q = np.zeros((env.action_space.n))\n",
    "    N = np.zeros((env.action_space.n))\n",
    "\n",
    "    Qe = np.empty((n_episodes, env.action_space.n))\n",
    "    returns = np.empty(n_episodes)\n",
    "    actions = np.empty(n_episodes, dtype = int)\n",
    "\n",
    "    name = 'Softmax exploration'\n",
    "\n",
    "    for e in tqdm(range(n_episodes), desc='Episodes for: ' + name):#, leave=False):\n",
    "        \n",
    "        decay_episodes = n_episodes * decay_ratio\n",
    "        temp = 1 - e /decay_episodes\n",
    "        temp *= init_temp - min_temp\n",
    "        temp += min_temp\n",
    "        temp = np.clip(temp, min_temp, init_temp)\n",
    "\n",
    "        scaled_Q = Q / temp\n",
    "        norm_Q = scaled_Q - np.max(scaled_Q)\n",
    "        exp_Q = np.exp(scaled_Q)\n",
    "        probs = exp_Q / np.sum(exp_Q)\n",
    "        \n",
    "        assert np.isclose(probs.sum(), 1.0)\n",
    "        \n",
    "        action = np.random.choice(np.arange(len(probs)),\n",
    "                                  size=1,\n",
    "                                  p=probs)[0]\n",
    "        \n",
    "        _, reward, _, _, _= env.step(action)\n",
    "        N[action] += 1\n",
    "        Q[action] = Q[action] + (reward - Q[action]) / N[action]\n",
    "\n",
    "        Qe[e] = Q\n",
    "        returns[e] = reward\n",
    "        actions[e] = action\n",
    "\n",
    "    return name, returns, Qe, actions"
   ]
  },
  {
   "cell_type": "markdown",
   "id": "2efd7423-b5ed-4fbc-ae94-c6badd6dec7c",
   "metadata": {},
   "source": [
    "### Thompson Sampling (with Upper Conficende Bound version comment)"
   ]
  },
  {
   "cell_type": "code",
   "execution_count": 4,
   "id": "33755855-f829-43a7-9668-842702d31334",
   "metadata": {},
   "outputs": [],
   "source": [
    "def thompson_sampling(env,\n",
    "                      alpha=1,\n",
    "                      beta=0,\n",
    "                      n_episodes=5000):\n",
    " \n",
    "    Q = np.zeros((env.action_space.n))\n",
    "    N = np.zeros((env.action_space.n))\n",
    "\n",
    "    Qe = np.empty((n_episodes, env.action_space.n))\n",
    "    returns = np.empty(n_episodes)\n",
    "    actions = np.empty(n_episodes, dtype = int)\n",
    "\n",
    "    name = 'Thompson sampling'\n",
    "\n",
    "    for e in tqdm(range(n_episodes), desc='Episodes for: ' + name):#, leave=False):\n",
    "\n",
    "        # For UCB sampling:\n",
    "        # U = c * np.sqrt(np.log(e) / N)\n",
    "        # samples = Q + U\n",
    "        samples = np.random.normal(loc=Q,\n",
    "                                   scale=alpha/(np.sqrt(N) + beta))\n",
    "        action = np.argmax(samples)\n",
    "                                 \n",
    "        _, reward, _, _, _= env.step(action)\n",
    "        N[action] += 1\n",
    "        Q[action] = Q[action] + (reward - Q[action]) / N[action]\n",
    "\n",
    "        Qe[e] = Q\n",
    "        returns[e] = reward\n",
    "        actions[e] = action\n",
    "\n",
    "    return name, returns, Qe, actions"
   ]
  },
  {
   "cell_type": "markdown",
   "id": "05a0bc3b-7e43-4497-a78b-62886fce1c6c",
   "metadata": {},
   "source": [
    "### Env step examples"
   ]
  },
  {
   "cell_type": "code",
   "execution_count": 11,
   "id": "539b42c9-c8ce-42a6-b6de-439fbce31845",
   "metadata": {},
   "outputs": [
    {
     "data": {
      "text/plain": [
       "(1, 0.0, False, False, {'prob': 0.8, 'success': False})"
      ]
     },
     "execution_count": 11,
     "metadata": {},
     "output_type": "execute_result"
    }
   ],
   "source": [
    "env.step(1)"
   ]
  },
  {
   "cell_type": "markdown",
   "id": "e23a2c19-4499-4108-bb57-e0e4fefcdf6c",
   "metadata": {},
   "source": [
    "## Results - Q values of both actions"
   ]
  },
  {
   "cell_type": "code",
   "execution_count": 12,
   "id": "d99cc462-1392-4123-8337-591eafdd253c",
   "metadata": {},
   "outputs": [
    {
     "name": "stderr",
     "output_type": "stream",
     "text": [
      "Episodes for: Pure exploitation: 100%|█████████████████████████████████████████████████████████████████████| 5000/5000 [00:00<00:00, 45636.39it/s]\n"
     ]
    }
   ],
   "source": [
    "ret = pure_exploitation(env)"
   ]
  },
  {
   "cell_type": "code",
   "execution_count": 15,
   "id": "1c987189-325a-4c34-870e-dca99ff653b0",
   "metadata": {},
   "outputs": [
    {
     "data": {
      "text/plain": [
       "('Pure exploitation',\n",
       " array([1., 0., 0., ..., 0., 0., 0.]),\n",
       " array([[1.        , 0.        ],\n",
       "        [0.5       , 0.        ],\n",
       "        [0.33333333, 0.        ],\n",
       "        ...,\n",
       "        [0.03701481, 0.        ],\n",
       "        [0.0370074 , 0.        ],\n",
       "        [0.037     , 0.        ]]),\n",
       " array([0, 0, 0, ..., 0, 0, 0]))"
      ]
     },
     "execution_count": 15,
     "metadata": {},
     "output_type": "execute_result"
    }
   ],
   "source": [
    "ret"
   ]
  },
  {
   "cell_type": "code",
   "execution_count": 19,
   "id": "c94e915f-0ba8-43b6-ad1f-d6eb9abb17a9",
   "metadata": {},
   "outputs": [
    {
     "data": {
      "text/plain": [
       "[<matplotlib.lines.Line2D at 0x77dd25cff310>,\n",
       " <matplotlib.lines.Line2D at 0x77dd25cff340>]"
      ]
     },
     "execution_count": 19,
     "metadata": {},
     "output_type": "execute_result"
    },
    {
     "data": {
      "image/png": "[encoded data removed]",
      "text/plain": [
       "<Figure size 640x480 with 1 Axes>"
      ]
     },
     "metadata": {},
     "output_type": "display_data"
    }
   ],
   "source": [
    "plt.plot(ret[2][10:])"
   ]
  },
  {
   "cell_type": "code",
   "execution_count": 25,
   "id": "52b19379-f310-49c8-ab3c-3a678ff52e24",
   "metadata": {},
   "outputs": [
    {
     "name": "stderr",
     "output_type": "stream",
     "text": [
      "Episodes for: Pure exploration: 100%|██████████████████████████████████████████████████████████████████████| 5000/5000 [00:00<00:00, 56470.99it/s]\n"
     ]
    }
   ],
   "source": [
    "ret = pure_exploration(env)"
   ]
  },
  {
   "cell_type": "code",
   "execution_count": 26,
   "id": "1f8f56ff-c542-4d46-a628-f85195a2e06b",
   "metadata": {},
   "outputs": [
    {
     "data": {
      "text/plain": [
       "[<matplotlib.lines.Line2D at 0x77dd25c41730>,\n",
       " <matplotlib.lines.Line2D at 0x77dd25dd7700>]"
      ]
     },
     "execution_count": 26,
     "metadata": {},
     "output_type": "execute_result"
    },
    {
     "data": {
      "image/png": "[encoded data removed]",
      "text/plain": [
       "<Figure size 640x480 with 1 Axes>"
      ]
     },
     "metadata": {},
     "output_type": "display_data"
    }
   ],
   "source": [
    "plt.plot(ret[2][10:])"
   ]
  },
  {
   "cell_type": "code",
   "execution_count": 27,
   "id": "415291eb-5255-446a-8899-efa281415bff",
   "metadata": {},
   "outputs": [
    {
     "data": {
      "text/plain": [
       "array([[0.        , 0.        ],\n",
       "       [0.        , 1.        ],\n",
       "       [0.        , 1.        ],\n",
       "       ...,\n",
       "       [0.0606538 , 0.27368849],\n",
       "       [0.0606538 , 0.27398374],\n",
       "       [0.0606538 , 0.27387241]])"
      ]
     },
     "execution_count": 27,
     "metadata": {},
     "output_type": "execute_result"
    }
   ],
   "source": [
    "ret[2]"
   ]
  },
  {
   "cell_type": "code",
   "execution_count": 19,
   "id": "5dc3cc75-b632-472b-816c-312d2d656d8b",
   "metadata": {},
   "outputs": [
    {
     "name": "stderr",
     "output_type": "stream",
     "text": [
      "Episodes for: Softmax exploration: 100%|███████████████████████████████████████████████████████████████████| 5000/5000 [00:00<00:00, 11673.21it/s]\n"
     ]
    }
   ],
   "source": [
    "ret = softmax_exploration(env)"
   ]
  },
  {
   "cell_type": "code",
   "execution_count": 20,
   "id": "9a72d9d0-f91b-4608-adf5-786103bf7dc5",
   "metadata": {},
   "outputs": [
    {
     "data": {
      "text/plain": [
       "[<matplotlib.lines.Line2D at 0x7bb93b971850>,\n",
       " <matplotlib.lines.Line2D at 0x7bb93b971370>]"
      ]
     },
     "execution_count": 20,
     "metadata": {},
     "output_type": "execute_result"
    },
    {
     "data": {
      "image/png": "[encoded data removed]",
      "text/plain": [
       "<Figure size 640x480 with 1 Axes>"
      ]
     },
     "metadata": {},
     "output_type": "display_data"
    }
   ],
   "source": [
    "plt.plot(ret[2][10:])"
   ]
  },
  {
   "cell_type": "code",
   "execution_count": 5,
   "id": "ea29e55f-e6c2-4c2c-bd19-7ed3886a0ca8",
   "metadata": {},
   "outputs": [
    {
     "name": "stderr",
     "output_type": "stream",
     "text": [
      "Episodes for: Thompson sampling:   0%|                                                                                   | 0/5000 [00:00<?, ?it/s]/tmp/ipykernel_2014/3140580305.py:21: RuntimeWarning: divide by zero encountered in divide\n",
      "  scale=alpha/(np.sqrt(N) + beta))\n",
      "Episodes for: Thompson sampling: 100%|█████████████████████████████████████████████████████████████████████| 5000/5000 [00:00<00:00, 32447.78it/s]\n"
     ]
    }
   ],
   "source": [
    "ret = thompson_sampling(env)"
   ]
  },
  {
   "cell_type": "code",
   "execution_count": 6,
   "id": "83a749b5-8bd7-4fc7-9623-028a0def0395",
   "metadata": {},
   "outputs": [
    {
     "data": {
      "text/plain": [
       "[<matplotlib.lines.Line2D at 0x777283070b80>,\n",
       " <matplotlib.lines.Line2D at 0x777283070f10>]"
      ]
     },
     "execution_count": 6,
     "metadata": {},
     "output_type": "execute_result"
    },
    {
     "data": {
      "image/png": "[encoded data removed]",
      "text/plain": [
       "<Figure size 640x480 with 1 Axes>"
      ]
     },
     "metadata": {},
     "output_type": "display_data"
    }
   ],
   "source": [
    "plt.plot(ret[2][10:])"
   ]
  },
  {
   "cell_type": "code",
   "execution_count": null,
   "id": "9bca0fc4-6e39-457c-ae16-d4b7b82e367a",
   "metadata": {},
   "outputs": [],
   "source": []
  },
  {
   "cell_type": "code",
   "execution_count": null,
   "id": "b6f938d7-bb44-44de-a3b9-dd53a3b44a4a",
   "metadata": {},
   "outputs": [],
   "source": []
  },
  {
   "cell_type": "code",
   "execution_count": null,
   "id": "785081d0-adf5-47a1-8988-6c924c75f075",
   "metadata": {},
   "outputs": [],
   "source": []
  },
  {
   "cell_type": "code",
   "execution_count": null,
   "id": "75185b2c-9d3c-473b-893e-c4c6b6e48f38",
   "metadata": {},
   "outputs": [],
   "source": []
  },
  {
   "cell_type": "code",
   "execution_count": null,
   "id": "b8810898-7bdc-4452-9bcb-15903a8ed137",
   "metadata": {},
   "outputs": [],
   "source": []
  },
  {
   "cell_type": "code",
   "execution_count": null,
   "id": "3992e22b-337e-4ed8-9e0a-8483c1863663",
   "metadata": {},
   "outputs": [],
   "source": []
  },
  {
   "cell_type": "code",
   "execution_count": null,
   "id": "a479536d-a6c3-4003-9925-fdd41439c42d",
   "metadata": {},
   "outputs": [],
   "source": []
  },
  {
   "cell_type": "code",
   "execution_count": null,
   "id": "b1d3772e-05ae-4c6f-b4b3-a9394e4e92f2",
   "metadata": {},
   "outputs": [],
   "source": []
  },
  {
   "cell_type": "code",
   "execution_count": null,
   "id": "96429556-02ce-41f4-8a68-64e8239a8e08",
   "metadata": {},
   "outputs": [],
   "source": []
  },
  {
   "cell_type": "code",
   "execution_count": null,
   "id": "66310303-9617-4447-9c07-9f3d5b6665da",
   "metadata": {},
   "outputs": [],
   "source": []
  },
  {
   "cell_type": "code",
   "execution_count": null,
   "id": "71dea3e3-fa7a-4794-80b9-0f723145a87a",
   "metadata": {},
   "outputs": [],
   "source": []
  },
  {
   "cell_type": "code",
   "execution_count": null,
   "id": "557f1493-2d27-4f6e-83a3-b8d589576176",
   "metadata": {},
   "outputs": [],
   "source": []
  },
  {
   "cell_type": "code",
   "execution_count": null,
   "id": "2dd28a9c-5efd-4ac2-9adf-076d24e3c4f5",
   "metadata": {},
   "outputs": [],
   "source": []
  }
 ],
 "metadata": {
  "kernelspec": {
   "display_name": "tf39",
   "language": "python",
   "name": "tf39"
  },
  "language_info": {
   "codemirror_mode": {
    "name": "ipython",
    "version": 3
   },
   "file_extension": ".py",
   "mimetype": "text/x-python",
   "name": "python",
   "nbconvert_exporter": "python",
   "pygments_lexer": "ipython3",
   "version": "3.9.18"
  }
 },
 "nbformat": 4,
 "nbformat_minor": 5
}
